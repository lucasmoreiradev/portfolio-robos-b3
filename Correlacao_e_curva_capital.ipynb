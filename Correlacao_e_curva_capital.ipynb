{
  "nbformat": 4,
  "nbformat_minor": 0,
  "metadata": {
    "colab": {
      "name": "Correlacao e curva capital.ipynb",
      "provenance": [],
      "collapsed_sections": [],
      "authorship_tag": "ABX9TyNbhRHWmyhMNSyy0uRtCQkP",
      "include_colab_link": true
    },
    "kernelspec": {
      "name": "python3",
      "display_name": "Python 3"
    }
  },
  "cells": [
    {
      "cell_type": "markdown",
      "metadata": {
        "id": "view-in-github",
        "colab_type": "text"
      },
      "source": [
        "<a href=\"https://colab.research.google.com/github/lucasmoreiradev/portfolio-robos-b3/blob/main/Correlacao_e_curva_capital.ipynb\" target=\"_parent\"><img src=\"https://colab.research.google.com/assets/colab-badge.svg\" alt=\"Open In Colab\"/></a>"
      ]
    },
    {
      "cell_type": "markdown",
      "metadata": {
        "id": "2f0oLsrBwRml"
      },
      "source": [
        "### **Todos os robôs possuem um capital inicial de R$ 10.000,00. O período analisado é de toda a história disponibilizada no MetaTrader 5. O intuito é gerar um portfólio com uma curva suavizada de capital, através da diversificação.**"
      ]
    },
    {
      "cell_type": "code",
      "metadata": {
        "id": "RpSsvBLwuEwn",
        "outputId": "83812f8d-bd78-4fda-a810-fbe40f2240c5",
        "colab": {
          "base_uri": "https://localhost:8080/",
          "height": 204
        }
      },
      "source": [
        "import pandas as pd\n",
        "import matplotlib.pyplot as plt\n",
        "import seaborn as sns\n",
        "import numpy as np\n",
        "from collections import Counter\n",
        "\n",
        "%matplotlib inline\n",
        "\n",
        "df_bandas = pd.read_csv('https://raw.githubusercontent.com/lucasmoreiradev/portfolio-robos-b3/main/bandas.csv', encoding = \"ISO-8859-1\", sep=';')\n",
        "\n",
        "df_bandas['Data'] = pd.to_datetime(df_bandas['<DATE>']).dt.normalize()\n",
        "df_bandas = df_bandas.drop(columns=['<DATE>', '<EQUITY>', '<DEPOSIT LOAD>'])\n",
        "df_bandas = df_bandas[['Data', '<BALANCE>']]\n",
        "df_bandas.columns = ['Data', 'Saldo']\n",
        "df_bandas = df_bandas.groupby('Data', as_index = False).last()\n",
        "df_bandas.head()\n"
      ],
      "execution_count": 65,
      "outputs": [
        {
          "output_type": "execute_result",
          "data": {
            "text/html": [
              "<div>\n",
              "<style scoped>\n",
              "    .dataframe tbody tr th:only-of-type {\n",
              "        vertical-align: middle;\n",
              "    }\n",
              "\n",
              "    .dataframe tbody tr th {\n",
              "        vertical-align: top;\n",
              "    }\n",
              "\n",
              "    .dataframe thead th {\n",
              "        text-align: right;\n",
              "    }\n",
              "</style>\n",
              "<table border=\"1\" class=\"dataframe\">\n",
              "  <thead>\n",
              "    <tr style=\"text-align: right;\">\n",
              "      <th></th>\n",
              "      <th>Data</th>\n",
              "      <th>Saldo</th>\n",
              "    </tr>\n",
              "  </thead>\n",
              "  <tbody>\n",
              "    <tr>\n",
              "      <th>0</th>\n",
              "      <td>2015-08-15</td>\n",
              "      <td>10000.0</td>\n",
              "    </tr>\n",
              "    <tr>\n",
              "      <th>1</th>\n",
              "      <td>2015-08-17</td>\n",
              "      <td>9946.0</td>\n",
              "    </tr>\n",
              "    <tr>\n",
              "      <th>2</th>\n",
              "      <td>2015-08-18</td>\n",
              "      <td>10139.0</td>\n",
              "    </tr>\n",
              "    <tr>\n",
              "      <th>3</th>\n",
              "      <td>2015-08-19</td>\n",
              "      <td>10027.0</td>\n",
              "    </tr>\n",
              "    <tr>\n",
              "      <th>4</th>\n",
              "      <td>2015-08-20</td>\n",
              "      <td>10075.0</td>\n",
              "    </tr>\n",
              "  </tbody>\n",
              "</table>\n",
              "</div>"
            ],
            "text/plain": [
              "        Data    Saldo\n",
              "0 2015-08-15  10000.0\n",
              "1 2015-08-17   9946.0\n",
              "2 2015-08-18  10139.0\n",
              "3 2015-08-19  10027.0\n",
              "4 2015-08-20  10075.0"
            ]
          },
          "metadata": {
            "tags": []
          },
          "execution_count": 65
        }
      ]
    },
    {
      "cell_type": "code",
      "metadata": {
        "id": "OnbyGM09x6OY",
        "outputId": "3a028ba5-c31a-4ab8-800e-c3ce1885d5f9",
        "colab": {
          "base_uri": "https://localhost:8080/",
          "height": 204
        }
      },
      "source": [
        "\n",
        "df_ifr = pd.read_csv('https://raw.githubusercontent.com/lucasmoreiradev/portfolio-robos-b3/main/ifr.csv', encoding = \"ISO-8859-1\", sep=';')\n",
        "df_ifr['Data'] = pd.to_datetime(df_ifr['<DATE>']).dt.normalize()\n",
        "df_ifr = df_ifr.drop(columns=['<DATE>', '<EQUITY>', '<DEPOSIT LOAD>'])\n",
        "df_ifr = df_ifr[['Data', '<BALANCE>']]\n",
        "df_ifr.columns = ['Data', 'Saldo']\n",
        "df_ifr = df_ifr.groupby('Data', as_index = False).last()\n",
        "df_ifr.head()"
      ],
      "execution_count": 71,
      "outputs": [
        {
          "output_type": "execute_result",
          "data": {
            "text/html": [
              "<div>\n",
              "<style scoped>\n",
              "    .dataframe tbody tr th:only-of-type {\n",
              "        vertical-align: middle;\n",
              "    }\n",
              "\n",
              "    .dataframe tbody tr th {\n",
              "        vertical-align: top;\n",
              "    }\n",
              "\n",
              "    .dataframe thead th {\n",
              "        text-align: right;\n",
              "    }\n",
              "</style>\n",
              "<table border=\"1\" class=\"dataframe\">\n",
              "  <thead>\n",
              "    <tr style=\"text-align: right;\">\n",
              "      <th></th>\n",
              "      <th>Data</th>\n",
              "      <th>Saldo</th>\n",
              "    </tr>\n",
              "  </thead>\n",
              "  <tbody>\n",
              "    <tr>\n",
              "      <th>0</th>\n",
              "      <td>2015-08-15</td>\n",
              "      <td>10000.0</td>\n",
              "    </tr>\n",
              "    <tr>\n",
              "      <th>1</th>\n",
              "      <td>2015-08-17</td>\n",
              "      <td>9988.0</td>\n",
              "    </tr>\n",
              "    <tr>\n",
              "      <th>2</th>\n",
              "      <td>2015-08-18</td>\n",
              "      <td>10325.0</td>\n",
              "    </tr>\n",
              "    <tr>\n",
              "      <th>3</th>\n",
              "      <td>2015-08-19</td>\n",
              "      <td>10254.0</td>\n",
              "    </tr>\n",
              "    <tr>\n",
              "      <th>4</th>\n",
              "      <td>2015-08-20</td>\n",
              "      <td>10358.0</td>\n",
              "    </tr>\n",
              "  </tbody>\n",
              "</table>\n",
              "</div>"
            ],
            "text/plain": [
              "        Data    Saldo\n",
              "0 2015-08-15  10000.0\n",
              "1 2015-08-17   9988.0\n",
              "2 2015-08-18  10325.0\n",
              "3 2015-08-19  10254.0\n",
              "4 2015-08-20  10358.0"
            ]
          },
          "metadata": {
            "tags": []
          },
          "execution_count": 71
        }
      ]
    },
    {
      "cell_type": "code",
      "metadata": {
        "id": "zqRdyT3EyCVz",
        "outputId": "f3323147-9b58-41f9-f50d-b4545ce14716",
        "colab": {
          "base_uri": "https://localhost:8080/",
          "height": 204
        }
      },
      "source": [
        "df_rompimentox = pd.read_csv('https://raw.githubusercontent.com/lucasmoreiradev/portfolio-robos-b3/main/rompimentox.csv', encoding = \"ISO-8859-1\", sep=';')\n",
        "df_rompimentox['Data'] = pd.to_datetime(df_rompimentox['<DATE>']).dt.normalize()\n",
        "df_rompimentox = df_rompimentox.drop(columns=['<DATE>', '<EQUITY>', '<DEPOSIT LOAD>'])\n",
        "df_rompimentox = df_rompimentox[['Data', '<BALANCE>']]\n",
        "df_rompimentox.columns = ['Data', 'Saldo']\n",
        "df_rompimentox = df_rompimentox.groupby('Data', as_index = False).last()\n",
        "df_rompimentox.head()"
      ],
      "execution_count": 72,
      "outputs": [
        {
          "output_type": "execute_result",
          "data": {
            "text/html": [
              "<div>\n",
              "<style scoped>\n",
              "    .dataframe tbody tr th:only-of-type {\n",
              "        vertical-align: middle;\n",
              "    }\n",
              "\n",
              "    .dataframe tbody tr th {\n",
              "        vertical-align: top;\n",
              "    }\n",
              "\n",
              "    .dataframe thead th {\n",
              "        text-align: right;\n",
              "    }\n",
              "</style>\n",
              "<table border=\"1\" class=\"dataframe\">\n",
              "  <thead>\n",
              "    <tr style=\"text-align: right;\">\n",
              "      <th></th>\n",
              "      <th>Data</th>\n",
              "      <th>Saldo</th>\n",
              "    </tr>\n",
              "  </thead>\n",
              "  <tbody>\n",
              "    <tr>\n",
              "      <th>0</th>\n",
              "      <td>2015-08-15</td>\n",
              "      <td>10000.0</td>\n",
              "    </tr>\n",
              "    <tr>\n",
              "      <th>1</th>\n",
              "      <td>2015-08-17</td>\n",
              "      <td>10054.0</td>\n",
              "    </tr>\n",
              "    <tr>\n",
              "      <th>2</th>\n",
              "      <td>2015-08-18</td>\n",
              "      <td>10348.0</td>\n",
              "    </tr>\n",
              "    <tr>\n",
              "      <th>3</th>\n",
              "      <td>2015-08-19</td>\n",
              "      <td>10170.0</td>\n",
              "    </tr>\n",
              "    <tr>\n",
              "      <th>4</th>\n",
              "      <td>2015-08-20</td>\n",
              "      <td>10255.0</td>\n",
              "    </tr>\n",
              "  </tbody>\n",
              "</table>\n",
              "</div>"
            ],
            "text/plain": [
              "        Data    Saldo\n",
              "0 2015-08-15  10000.0\n",
              "1 2015-08-17  10054.0\n",
              "2 2015-08-18  10348.0\n",
              "3 2015-08-19  10170.0\n",
              "4 2015-08-20  10255.0"
            ]
          },
          "metadata": {
            "tags": []
          },
          "execution_count": 72
        }
      ]
    },
    {
      "cell_type": "code",
      "metadata": {
        "id": "og3Dmqn1yLfB",
        "outputId": "87ab5e4f-7284-4fd5-b7f0-bf1b1b7917fe",
        "colab": {
          "base_uri": "https://localhost:8080/",
          "height": 204
        }
      },
      "source": [
        "df_mmv2 = pd.read_csv('https://raw.githubusercontent.com/lucasmoreiradev/portfolio-robos-b3/main/mmv2.csv', encoding = \"ISO-8859-1\", sep=';')\n",
        "df_mmv2['Data'] = pd.to_datetime(df_mmv2['<DATE>']).dt.normalize()\n",
        "df_mmv2 = df_mmv2.drop(columns=['<DATE>', '<EQUITY>', '<DEPOSIT LOAD>'])\n",
        "df_mmv2 = df_mmv2[['Data', '<BALANCE>']]\n",
        "df_mmv2.columns = ['Data', 'Saldo']\n",
        "df_mmv2 = df_mmv2.groupby('Data', as_index = False).last()\n",
        "df_mmv2.head()"
      ],
      "execution_count": 73,
      "outputs": [
        {
          "output_type": "execute_result",
          "data": {
            "text/html": [
              "<div>\n",
              "<style scoped>\n",
              "    .dataframe tbody tr th:only-of-type {\n",
              "        vertical-align: middle;\n",
              "    }\n",
              "\n",
              "    .dataframe tbody tr th {\n",
              "        vertical-align: top;\n",
              "    }\n",
              "\n",
              "    .dataframe thead th {\n",
              "        text-align: right;\n",
              "    }\n",
              "</style>\n",
              "<table border=\"1\" class=\"dataframe\">\n",
              "  <thead>\n",
              "    <tr style=\"text-align: right;\">\n",
              "      <th></th>\n",
              "      <th>Data</th>\n",
              "      <th>Saldo</th>\n",
              "    </tr>\n",
              "  </thead>\n",
              "  <tbody>\n",
              "    <tr>\n",
              "      <th>0</th>\n",
              "      <td>2015-08-15</td>\n",
              "      <td>10000.0</td>\n",
              "    </tr>\n",
              "    <tr>\n",
              "      <th>1</th>\n",
              "      <td>2015-08-18</td>\n",
              "      <td>9926.0</td>\n",
              "    </tr>\n",
              "    <tr>\n",
              "      <th>2</th>\n",
              "      <td>2015-08-19</td>\n",
              "      <td>10062.0</td>\n",
              "    </tr>\n",
              "    <tr>\n",
              "      <th>3</th>\n",
              "      <td>2015-08-20</td>\n",
              "      <td>10066.0</td>\n",
              "    </tr>\n",
              "    <tr>\n",
              "      <th>4</th>\n",
              "      <td>2015-08-21</td>\n",
              "      <td>10175.0</td>\n",
              "    </tr>\n",
              "  </tbody>\n",
              "</table>\n",
              "</div>"
            ],
            "text/plain": [
              "        Data    Saldo\n",
              "0 2015-08-15  10000.0\n",
              "1 2015-08-18   9926.0\n",
              "2 2015-08-19  10062.0\n",
              "3 2015-08-20  10066.0\n",
              "4 2015-08-21  10175.0"
            ]
          },
          "metadata": {
            "tags": []
          },
          "execution_count": 73
        }
      ]
    },
    {
      "cell_type": "markdown",
      "metadata": {
        "id": "Mf1WNyRyyRki"
      },
      "source": [
        "### Curva de capital da estratégia de bandas"
      ]
    },
    {
      "cell_type": "code",
      "metadata": {
        "id": "I87JEFeKyUj3",
        "outputId": "d73fd447-87b3-4600-899a-5cc6287f2a92",
        "colab": {
          "base_uri": "https://localhost:8080/",
          "height": 417
        }
      },
      "source": [
        "plt.figure(figsize=(15,7))\n",
        "plt.xticks([])\n",
        "plt.autoscale(tight=True)\n",
        "plt.plot(df_bandas['Data'], df_bandas['Saldo'] )\n",
        "plt.show();"
      ],
      "execution_count": 74,
      "outputs": [
        {
          "output_type": "display_data",
          "data": {
            "image/png": "[encoded data removed]",
            "text/plain": [
              "<Figure size 1080x504 with 1 Axes>"
            ]
          },
          "metadata": {
            "tags": [],
            "needs_background": "light"
          }
        }
      ]
    },
    {
      "cell_type": "markdown",
      "metadata": {
        "id": "aa3T1-Jqyink"
      },
      "source": [
        "### Curva de capital de estratégia IFR"
      ]
    },
    {
      "cell_type": "code",
      "metadata": {
        "id": "vZ1tuULmyl5X",
        "outputId": "21e1863b-db7e-4b6f-fc52-4bcb879225bc",
        "colab": {
          "base_uri": "https://localhost:8080/",
          "height": 417
        }
      },
      "source": [
        "plt.figure(figsize=(15,7))\n",
        "plt.xticks([])\n",
        "plt.autoscale(tight=True)\n",
        "plt.plot(df_ifr['Data'], df_ifr['Saldo'] )\n",
        "plt.show();"
      ],
      "execution_count": 75,
      "outputs": [
        {
          "output_type": "display_data",
          "data": {
            "image/png": "[encoded data removed]",
            "text/plain": [
              "<Figure size 1080x504 with 1 Axes>"
            ]
          },
          "metadata": {
            "tags": [],
            "needs_background": "light"
          }
        }
      ]
    },
    {
      "cell_type": "markdown",
      "metadata": {
        "id": "buSn0Qfzyw21"
      },
      "source": [
        "### Curva de capital da estratégia rompimentox (curva acentuada na crise de 2020)"
      ]
    },
    {
      "cell_type": "code",
      "metadata": {
        "id": "n73F0wp2ywlK",
        "outputId": "81e77e81-5171-424c-e8cc-104741a4bf03",
        "colab": {
          "base_uri": "https://localhost:8080/",
          "height": 415
        }
      },
      "source": [
        "plt.figure(figsize=(15,7))\n",
        "plt.xticks([])\n",
        "plt.autoscale(tight=True)\n",
        "plt.plot(df_rompimentox['Data'], df_rompimentox['Saldo'] )\n",
        "plt.show();"
      ],
      "execution_count": 76,
      "outputs": [
        {
          "output_type": "display_data",
          "data": {
            "image/png": "[encoded data removed]",
            "text/plain": [
              "<Figure size 1080x504 with 1 Axes>"
            ]
          },
          "metadata": {
            "tags": [],
            "needs_background": "light"
          }
        }
      ]
    },
    {
      "cell_type": "markdown",
      "metadata": {
        "id": "mPHHy_4WzAFj"
      },
      "source": [
        "### Curva de capital da estratégia mmv2 (também teve uma curva acentuada na crise de 2020)"
      ]
    },
    {
      "cell_type": "code",
      "metadata": {
        "id": "bql1al_uzCOK",
        "outputId": "b1236711-a87a-4c62-f3de-b96f3407cb64",
        "colab": {
          "base_uri": "https://localhost:8080/",
          "height": 416
        }
      },
      "source": [
        "plt.figure(figsize=(15,7))\n",
        "plt.xticks([])\n",
        "plt.autoscale(tight=True)\n",
        "plt.plot(df_mmv2['Data'], df_mmv2['Saldo'] )\n",
        "plt.show();"
      ],
      "execution_count": 77,
      "outputs": [
        {
          "output_type": "display_data",
          "data": {
            "image/png": "[encoded data removed]",
            "text/plain": [
              "<Figure size 1080x504 with 1 Axes>"
            ]
          },
          "metadata": {
            "tags": [],
            "needs_background": "light"
          }
        }
      ]
    },
    {
      "cell_type": "markdown",
      "metadata": {
        "id": "LQqHBD548_-J"
      },
      "source": [
        "\n",
        "Obtendo dados estatísticos\n",
        "Aqui é criada mais 2 colunas \"Dif\" e \"Result\". Em Dif é armazenada a variação diária, sem acumular o valor para o dia seguinte, simplesmente o resultado financeiro do dia. Result é uma coluna categórica: \"1\" para dia com saldo positivo e \"0\" para dia negativo.\n",
        "\n",
        "Em seguida é calculado métricas importantes da estratégia: Dias positivos, dias negativos, taxa de acerto, drawdown absoluto e drawdown relativo ao capital acumulado."
      ]
    },
    {
      "cell_type": "code",
      "metadata": {
        "id": "1jyBMxN99ByB",
        "outputId": "5dc0dedf-ff14-4824-9672-0f1ff7a3c729",
        "colab": {
          "base_uri": "https://localhost:8080/",
          "height": 204
        }
      },
      "source": [
        "data = [] \n",
        "result = []\n",
        "topo = 5000\n",
        "dd = 0\n",
        "dd_rel = 0\n",
        "\n",
        "data.append(0)\n",
        "for i in range(len(df_bandas)) : \n",
        "  dif = 0\n",
        "  if (i != 0) :\n",
        "    dif = df_bandas.loc[i, 'Saldo'] - df_bandas.loc[i-1, 'Saldo']\n",
        "    data.append(dif)\n",
        "  if (dif > 0) :\n",
        "    result.append(1)\n",
        "  else : \n",
        "    result.append(0)\n",
        "  if (df_bandas.loc[i, 'Saldo'] > topo) :\n",
        "    topo = df_bandas.loc[i, 'Saldo']\n",
        "  if ((df_bandas.loc[i, 'Saldo'] - topo) < dd ) :\n",
        "    dd = (df_bandas.loc[i, 'Saldo'] - topo)\n",
        "    dd_rel = (dd * 100) / topo\n",
        "\n",
        "df_bandas['Dif'] = data\n",
        "df_bandas['Result'] = result\n",
        "df_bandas.head()\n"
      ],
      "execution_count": 80,
      "outputs": [
        {
          "output_type": "execute_result",
          "data": {
            "text/html": [
              "<div>\n",
              "<style scoped>\n",
              "    .dataframe tbody tr th:only-of-type {\n",
              "        vertical-align: middle;\n",
              "    }\n",
              "\n",
              "    .dataframe tbody tr th {\n",
              "        vertical-align: top;\n",
              "    }\n",
              "\n",
              "    .dataframe thead th {\n",
              "        text-align: right;\n",
              "    }\n",
              "</style>\n",
              "<table border=\"1\" class=\"dataframe\">\n",
              "  <thead>\n",
              "    <tr style=\"text-align: right;\">\n",
              "      <th></th>\n",
              "      <th>Data</th>\n",
              "      <th>Saldo</th>\n",
              "      <th>Dif</th>\n",
              "      <th>Result</th>\n",
              "    </tr>\n",
              "  </thead>\n",
              "  <tbody>\n",
              "    <tr>\n",
              "      <th>0</th>\n",
              "      <td>2015-08-15</td>\n",
              "      <td>10000.0</td>\n",
              "      <td>0.0</td>\n",
              "      <td>0</td>\n",
              "    </tr>\n",
              "    <tr>\n",
              "      <th>1</th>\n",
              "      <td>2015-08-17</td>\n",
              "      <td>9946.0</td>\n",
              "      <td>-54.0</td>\n",
              "      <td>0</td>\n",
              "    </tr>\n",
              "    <tr>\n",
              "      <th>2</th>\n",
              "      <td>2015-08-18</td>\n",
              "      <td>10139.0</td>\n",
              "      <td>193.0</td>\n",
              "      <td>1</td>\n",
              "    </tr>\n",
              "    <tr>\n",
              "      <th>3</th>\n",
              "      <td>2015-08-19</td>\n",
              "      <td>10027.0</td>\n",
              "      <td>-112.0</td>\n",
              "      <td>0</td>\n",
              "    </tr>\n",
              "    <tr>\n",
              "      <th>4</th>\n",
              "      <td>2015-08-20</td>\n",
              "      <td>10075.0</td>\n",
              "      <td>48.0</td>\n",
              "      <td>1</td>\n",
              "    </tr>\n",
              "  </tbody>\n",
              "</table>\n",
              "</div>"
            ],
            "text/plain": [
              "        Data    Saldo    Dif  Result\n",
              "0 2015-08-15  10000.0    0.0       0\n",
              "1 2015-08-17   9946.0  -54.0       0\n",
              "2 2015-08-18  10139.0  193.0       1\n",
              "3 2015-08-19  10027.0 -112.0       0\n",
              "4 2015-08-20  10075.0   48.0       1"
            ]
          },
          "metadata": {
            "tags": []
          },
          "execution_count": 80
        }
      ]
    },
    {
      "cell_type": "code",
      "metadata": {
        "id": "DkHbK5E__SpX",
        "outputId": "519a1574-0338-4d59-d89b-d6d40f3709ab",
        "colab": {
          "base_uri": "https://localhost:8080/",
          "height": 102
        }
      },
      "source": [
        "print(\"Dias Positivos: \"+ str(Counter(df_bandas['Result'])[1]))\n",
        "print(\"Dias Negativos: \"+ str(Counter(df_bandas['Result'])[0]))\n",
        "print(\"Taxa de Acerto: \"+('{:.2f}'.format((Counter(df_bandas['Result'])[1] * 100) / (Counter(df_bandas['Result'])[0] + Counter(df_bandas['Result'])[1]) )+\"%\"))\n",
        "print(\"Drawdown Máximo: \"+str(dd))\n",
        "print(\"Drawdown Relativo: \"+('{:.2f}'.format(dd_rel))+\"%\")"
      ],
      "execution_count": 81,
      "outputs": [
        {
          "output_type": "stream",
          "text": [
            "Dias Positivos: 714\n",
            "Dias Negativos: 561\n",
            "Taxa de Acerto: 56.00%\n",
            "Drawdown Máximo: -2939.0\n",
            "Drawdown Relativo: -7.12%\n"
          ],
          "name": "stdout"
        }
      ]
    },
    {
      "cell_type": "code",
      "metadata": {
        "id": "8E3w013y_c3e",
        "outputId": "0d483406-ef4e-426b-a6a5-0fc34a424de5",
        "colab": {
          "base_uri": "https://localhost:8080/",
          "height": 204
        }
      },
      "source": [
        "data = [] \n",
        "result = []\n",
        "topo = 5000\n",
        "dd = 0\n",
        "dd_rel = 0\n",
        "\n",
        "data.append(0)\n",
        "for i in range(len(df_ifr)) : \n",
        "  dif = 0\n",
        "  if (i != 0) :\n",
        "    dif = df_ifr.loc[i, 'Saldo'] - df_ifr.loc[i-1, 'Saldo']\n",
        "    data.append(dif)\n",
        "  if (dif > 0) :\n",
        "    result.append(1)\n",
        "  else : \n",
        "    result.append(0)\n",
        "  if (df_ifr.loc[i, 'Saldo'] > topo) :\n",
        "    topo = df_ifr.loc[i, 'Saldo']\n",
        "  if ((df_ifr.loc[i, 'Saldo'] - topo) < dd ) :\n",
        "    dd = (df_ifr.loc[i, 'Saldo'] - topo)\n",
        "    dd_rel = (dd * 100) / topo\n",
        "\n",
        "df_ifr['Dif'] = data\n",
        "df_ifr['Result'] = result\n",
        "df_ifr.head()\n"
      ],
      "execution_count": 82,
      "outputs": [
        {
          "output_type": "execute_result",
          "data": {
            "text/html": [
              "<div>\n",
              "<style scoped>\n",
              "    .dataframe tbody tr th:only-of-type {\n",
              "        vertical-align: middle;\n",
              "    }\n",
              "\n",
              "    .dataframe tbody tr th {\n",
              "        vertical-align: top;\n",
              "    }\n",
              "\n",
              "    .dataframe thead th {\n",
              "        text-align: right;\n",
              "    }\n",
              "</style>\n",
              "<table border=\"1\" class=\"dataframe\">\n",
              "  <thead>\n",
              "    <tr style=\"text-align: right;\">\n",
              "      <th></th>\n",
              "      <th>Data</th>\n",
              "      <th>Saldo</th>\n",
              "      <th>Dif</th>\n",
              "      <th>Result</th>\n",
              "    </tr>\n",
              "  </thead>\n",
              "  <tbody>\n",
              "    <tr>\n",
              "      <th>0</th>\n",
              "      <td>2015-08-15</td>\n",
              "      <td>10000.0</td>\n",
              "      <td>0.0</td>\n",
              "      <td>0</td>\n",
              "    </tr>\n",
              "    <tr>\n",
              "      <th>1</th>\n",
              "      <td>2015-08-17</td>\n",
              "      <td>9988.0</td>\n",
              "      <td>-12.0</td>\n",
              "      <td>0</td>\n",
              "    </tr>\n",
              "    <tr>\n",
              "      <th>2</th>\n",
              "      <td>2015-08-18</td>\n",
              "      <td>10325.0</td>\n",
              "      <td>337.0</td>\n",
              "      <td>1</td>\n",
              "    </tr>\n",
              "    <tr>\n",
              "      <th>3</th>\n",
              "      <td>2015-08-19</td>\n",
              "      <td>10254.0</td>\n",
              "      <td>-71.0</td>\n",
              "      <td>0</td>\n",
              "    </tr>\n",
              "    <tr>\n",
              "      <th>4</th>\n",
              "      <td>2015-08-20</td>\n",
              "      <td>10358.0</td>\n",
              "      <td>104.0</td>\n",
              "      <td>1</td>\n",
              "    </tr>\n",
              "  </tbody>\n",
              "</table>\n",
              "</div>"
            ],
            "text/plain": [
              "        Data    Saldo    Dif  Result\n",
              "0 2015-08-15  10000.0    0.0       0\n",
              "1 2015-08-17   9988.0  -12.0       0\n",
              "2 2015-08-18  10325.0  337.0       1\n",
              "3 2015-08-19  10254.0  -71.0       0\n",
              "4 2015-08-20  10358.0  104.0       1"
            ]
          },
          "metadata": {
            "tags": []
          },
          "execution_count": 82
        }
      ]
    },
    {
      "cell_type": "code",
      "metadata": {
        "id": "TbQ6OOmF_kUr",
        "outputId": "7ad0e727-fac2-462f-9f7c-5785795230ec",
        "colab": {
          "base_uri": "https://localhost:8080/",
          "height": 102
        }
      },
      "source": [
        "print(\"Dias Positivos: \"+ str(Counter(df_ifr['Result'])[1]))\n",
        "print(\"Dias Negativos: \"+ str(Counter(df_ifr['Result'])[0]))\n",
        "print(\"Taxa de Acerto: \"+('{:.2f}'.format((Counter(df_ifr['Result'])[1] * 100) / (Counter(df_ifr['Result'])[0] + Counter(df_ifr['Result'])[1]) )+\"%\"))\n",
        "print(\"Drawdown Máximo: \"+str(dd))\n",
        "print(\"Drawdown Relativo: \"+('{:.2f}'.format(dd_rel))+\"%\")"
      ],
      "execution_count": 83,
      "outputs": [
        {
          "output_type": "stream",
          "text": [
            "Dias Positivos: 561\n",
            "Dias Negativos: 548\n",
            "Taxa de Acerto: 50.59%\n",
            "Drawdown Máximo: -1486.0\n",
            "Drawdown Relativo: -6.50%\n"
          ],
          "name": "stdout"
        }
      ]
    },
    {
      "cell_type": "code",
      "metadata": {
        "id": "tJh-4869_q2f",
        "outputId": "c7240357-2a1a-446f-a546-20f515d4156b",
        "colab": {
          "base_uri": "https://localhost:8080/",
          "height": 204
        }
      },
      "source": [
        "data = [] \n",
        "result = []\n",
        "topo = 5000\n",
        "dd = 0\n",
        "dd_rel = 0\n",
        "\n",
        "data.append(0)\n",
        "for i in range(len(df_rompimentox)) : \n",
        "  dif = 0\n",
        "  if (i != 0) :\n",
        "    dif = df_rompimentox.loc[i, 'Saldo'] - df_rompimentox.loc[i-1, 'Saldo']\n",
        "    data.append(dif)\n",
        "  if (dif > 0) :\n",
        "    result.append(1)\n",
        "  else : \n",
        "    result.append(0)\n",
        "  if (df_rompimentox.loc[i, 'Saldo'] > topo) :\n",
        "    topo = df_rompimentox.loc[i, 'Saldo']\n",
        "  if ((df_rompimentox.loc[i, 'Saldo'] - topo) < dd ) :\n",
        "    dd = (df_rompimentox.loc[i, 'Saldo'] - topo)\n",
        "    dd_rel = (dd * 100) / topo\n",
        "\n",
        "df_rompimentox['Dif'] = data\n",
        "df_rompimentox['Result'] = result\n",
        "df_rompimentox.head()\n"
      ],
      "execution_count": 84,
      "outputs": [
        {
          "output_type": "execute_result",
          "data": {
            "text/html": [
              "<div>\n",
              "<style scoped>\n",
              "    .dataframe tbody tr th:only-of-type {\n",
              "        vertical-align: middle;\n",
              "    }\n",
              "\n",
              "    .dataframe tbody tr th {\n",
              "        vertical-align: top;\n",
              "    }\n",
              "\n",
              "    .dataframe thead th {\n",
              "        text-align: right;\n",
              "    }\n",
              "</style>\n",
              "<table border=\"1\" class=\"dataframe\">\n",
              "  <thead>\n",
              "    <tr style=\"text-align: right;\">\n",
              "      <th></th>\n",
              "      <th>Data</th>\n",
              "      <th>Saldo</th>\n",
              "      <th>Dif</th>\n",
              "      <th>Result</th>\n",
              "    </tr>\n",
              "  </thead>\n",
              "  <tbody>\n",
              "    <tr>\n",
              "      <th>0</th>\n",
              "      <td>2015-08-15</td>\n",
              "      <td>10000.0</td>\n",
              "      <td>0.0</td>\n",
              "      <td>0</td>\n",
              "    </tr>\n",
              "    <tr>\n",
              "      <th>1</th>\n",
              "      <td>2015-08-17</td>\n",
              "      <td>10054.0</td>\n",
              "      <td>54.0</td>\n",
              "      <td>1</td>\n",
              "    </tr>\n",
              "    <tr>\n",
              "      <th>2</th>\n",
              "      <td>2015-08-18</td>\n",
              "      <td>10348.0</td>\n",
              "      <td>294.0</td>\n",
              "      <td>1</td>\n",
              "    </tr>\n",
              "    <tr>\n",
              "      <th>3</th>\n",
              "      <td>2015-08-19</td>\n",
              "      <td>10170.0</td>\n",
              "      <td>-178.0</td>\n",
              "      <td>0</td>\n",
              "    </tr>\n",
              "    <tr>\n",
              "      <th>4</th>\n",
              "      <td>2015-08-20</td>\n",
              "      <td>10255.0</td>\n",
              "      <td>85.0</td>\n",
              "      <td>1</td>\n",
              "    </tr>\n",
              "  </tbody>\n",
              "</table>\n",
              "</div>"
            ],
            "text/plain": [
              "        Data    Saldo    Dif  Result\n",
              "0 2015-08-15  10000.0    0.0       0\n",
              "1 2015-08-17  10054.0   54.0       1\n",
              "2 2015-08-18  10348.0  294.0       1\n",
              "3 2015-08-19  10170.0 -178.0       0\n",
              "4 2015-08-20  10255.0   85.0       1"
            ]
          },
          "metadata": {
            "tags": []
          },
          "execution_count": 84
        }
      ]
    },
    {
      "cell_type": "code",
      "metadata": {
        "id": "IRbvcEym_00g",
        "outputId": "3236f655-439d-4d42-ba83-79f8067c11c2",
        "colab": {
          "base_uri": "https://localhost:8080/",
          "height": 102
        }
      },
      "source": [
        "print(\"Dias Positivos: \"+ str(Counter(df_rompimentox['Result'])[1]))\n",
        "print(\"Dias Negativos: \"+ str(Counter(df_rompimentox['Result'])[0]))\n",
        "print(\"Taxa de Acerto: \"+('{:.2f}'.format((Counter(df_rompimentox['Result'])[1] * 100) / (Counter(df_rompimentox['Result'])[0] + Counter(df_rompimentox['Result'])[1]) )+\"%\"))\n",
        "print(\"Drawdown Máximo: \"+str(dd))\n",
        "print(\"Drawdown Relativo: \"+('{:.2f}'.format(dd_rel))+\"%\")"
      ],
      "execution_count": 85,
      "outputs": [
        {
          "output_type": "stream",
          "text": [
            "Dias Positivos: 626\n",
            "Dias Negativos: 621\n",
            "Taxa de Acerto: 50.20%\n",
            "Drawdown Máximo: -2329.0\n",
            "Drawdown Relativo: -6.62%\n"
          ],
          "name": "stdout"
        }
      ]
    },
    {
      "cell_type": "code",
      "metadata": {
        "id": "cBXvYqZBAKQN",
        "outputId": "c583a124-31a2-4b36-fb16-903833aae2b2",
        "colab": {
          "base_uri": "https://localhost:8080/",
          "height": 204
        }
      },
      "source": [
        "data = [] \n",
        "result = []\n",
        "topo = 5000\n",
        "dd = 0\n",
        "dd_rel = 0\n",
        "\n",
        "data.append(0)\n",
        "for i in range(len(df_mmv2)) : \n",
        "  dif = 0\n",
        "  if (i != 0) :\n",
        "    dif = df_mmv2.loc[i, 'Saldo'] - df_mmv2.loc[i-1, 'Saldo']\n",
        "    data.append(dif)\n",
        "  if (dif > 0) :\n",
        "    result.append(1)\n",
        "  else : \n",
        "    result.append(0)\n",
        "  if (df_mmv2.loc[i, 'Saldo'] > topo) :\n",
        "    topo = df_mmv2.loc[i, 'Saldo']\n",
        "  if ((df_mmv2.loc[i, 'Saldo'] - topo) < dd ) :\n",
        "    dd = (df_mmv2.loc[i, 'Saldo'] - topo)\n",
        "    dd_rel = (dd * 100) / topo\n",
        "\n",
        "df_mmv2['Dif'] = data\n",
        "df_mmv2['Result'] = result\n",
        "df_mmv2.head()"
      ],
      "execution_count": 86,
      "outputs": [
        {
          "output_type": "execute_result",
          "data": {
            "text/html": [
              "<div>\n",
              "<style scoped>\n",
              "    .dataframe tbody tr th:only-of-type {\n",
              "        vertical-align: middle;\n",
              "    }\n",
              "\n",
              "    .dataframe tbody tr th {\n",
              "        vertical-align: top;\n",
              "    }\n",
              "\n",
              "    .dataframe thead th {\n",
              "        text-align: right;\n",
              "    }\n",
              "</style>\n",
              "<table border=\"1\" class=\"dataframe\">\n",
              "  <thead>\n",
              "    <tr style=\"text-align: right;\">\n",
              "      <th></th>\n",
              "      <th>Data</th>\n",
              "      <th>Saldo</th>\n",
              "      <th>Dif</th>\n",
              "      <th>Result</th>\n",
              "    </tr>\n",
              "  </thead>\n",
              "  <tbody>\n",
              "    <tr>\n",
              "      <th>0</th>\n",
              "      <td>2015-08-15</td>\n",
              "      <td>10000.0</td>\n",
              "      <td>0.0</td>\n",
              "      <td>0</td>\n",
              "    </tr>\n",
              "    <tr>\n",
              "      <th>1</th>\n",
              "      <td>2015-08-18</td>\n",
              "      <td>9926.0</td>\n",
              "      <td>-74.0</td>\n",
              "      <td>0</td>\n",
              "    </tr>\n",
              "    <tr>\n",
              "      <th>2</th>\n",
              "      <td>2015-08-19</td>\n",
              "      <td>10062.0</td>\n",
              "      <td>136.0</td>\n",
              "      <td>1</td>\n",
              "    </tr>\n",
              "    <tr>\n",
              "      <th>3</th>\n",
              "      <td>2015-08-20</td>\n",
              "      <td>10066.0</td>\n",
              "      <td>4.0</td>\n",
              "      <td>1</td>\n",
              "    </tr>\n",
              "    <tr>\n",
              "      <th>4</th>\n",
              "      <td>2015-08-21</td>\n",
              "      <td>10175.0</td>\n",
              "      <td>109.0</td>\n",
              "      <td>1</td>\n",
              "    </tr>\n",
              "  </tbody>\n",
              "</table>\n",
              "</div>"
            ],
            "text/plain": [
              "        Data    Saldo    Dif  Result\n",
              "0 2015-08-15  10000.0    0.0       0\n",
              "1 2015-08-18   9926.0  -74.0       0\n",
              "2 2015-08-19  10062.0  136.0       1\n",
              "3 2015-08-20  10066.0    4.0       1\n",
              "4 2015-08-21  10175.0  109.0       1"
            ]
          },
          "metadata": {
            "tags": []
          },
          "execution_count": 86
        }
      ]
    },
    {
      "cell_type": "code",
      "metadata": {
        "id": "j3dCUIxuAWeE",
        "outputId": "673a86a8-177b-4a34-e96d-5cc70761739c",
        "colab": {
          "base_uri": "https://localhost:8080/",
          "height": 102
        }
      },
      "source": [
        "print(\"Dias Positivos: \"+ str(Counter(df_mmv2['Result'])[1]))\n",
        "print(\"Dias Negativos: \"+ str(Counter(df_mmv2['Result'])[0]))\n",
        "print(\"Taxa de Acerto: \"+('{:.2f}'.format((Counter(df_mmv2['Result'])[1] * 100) / (Counter(df_mmv2['Result'])[0] + Counter(df_mmv2['Result'])[1]) )+\"%\"))\n",
        "print(\"Drawdown Máximo: \"+str(dd))\n",
        "print(\"Drawdown Relativo: \"+('{:.2f}'.format(dd_rel))+\"%\")"
      ],
      "execution_count": 87,
      "outputs": [
        {
          "output_type": "stream",
          "text": [
            "Dias Positivos: 500\n",
            "Dias Negativos: 418\n",
            "Taxa de Acerto: 54.47%\n",
            "Drawdown Máximo: -3901.0\n",
            "Drawdown Relativo: -23.81%\n"
          ],
          "name": "stdout"
        }
      ]
    },
    {
      "cell_type": "code",
      "metadata": {
        "id": "1Kg_qjvM7yGX",
        "outputId": "0f6a0fad-f8e1-408b-887c-bf858becea67",
        "colab": {
          "base_uri": "https://localhost:8080/",
          "height": 204
        }
      },
      "source": [
        "\n",
        "data = [] \n",
        "balances = []\n",
        "\n",
        "df_portfolio = pd.DataFrame()\n",
        "\n",
        "for i in range(918) : \n",
        "  data.append(df_bandas.loc[i, \"Data\"])\n",
        "  balances.append((df_bandas.loc[i, \"Saldo\"] + df_ifr.loc[i, \"Saldo\"] + df_mmv2.loc[i, \"Saldo\"] + df_rompimentox.loc[i, \"Saldo\"]) - 15000)\n",
        "\n",
        "dados = {'Data': data, 'Total': balances} \n",
        "  \n",
        "df_portfolio = pd.DataFrame(dados) \n",
        "df_portfolio.head()"
      ],
      "execution_count": 117,
      "outputs": [
        {
          "output_type": "execute_result",
          "data": {
            "text/html": [
              "<div>\n",
              "<style scoped>\n",
              "    .dataframe tbody tr th:only-of-type {\n",
              "        vertical-align: middle;\n",
              "    }\n",
              "\n",
              "    .dataframe tbody tr th {\n",
              "        vertical-align: top;\n",
              "    }\n",
              "\n",
              "    .dataframe thead th {\n",
              "        text-align: right;\n",
              "    }\n",
              "</style>\n",
              "<table border=\"1\" class=\"dataframe\">\n",
              "  <thead>\n",
              "    <tr style=\"text-align: right;\">\n",
              "      <th></th>\n",
              "      <th>Data</th>\n",
              "      <th>Total</th>\n",
              "    </tr>\n",
              "  </thead>\n",
              "  <tbody>\n",
              "    <tr>\n",
              "      <th>0</th>\n",
              "      <td>2015-08-15</td>\n",
              "      <td>25000.0</td>\n",
              "    </tr>\n",
              "    <tr>\n",
              "      <th>1</th>\n",
              "      <td>2015-08-17</td>\n",
              "      <td>24914.0</td>\n",
              "    </tr>\n",
              "    <tr>\n",
              "      <th>2</th>\n",
              "      <td>2015-08-18</td>\n",
              "      <td>25874.0</td>\n",
              "    </tr>\n",
              "    <tr>\n",
              "      <th>3</th>\n",
              "      <td>2015-08-19</td>\n",
              "      <td>25517.0</td>\n",
              "    </tr>\n",
              "    <tr>\n",
              "      <th>4</th>\n",
              "      <td>2015-08-20</td>\n",
              "      <td>25863.0</td>\n",
              "    </tr>\n",
              "  </tbody>\n",
              "</table>\n",
              "</div>"
            ],
            "text/plain": [
              "        Data    Total\n",
              "0 2015-08-15  25000.0\n",
              "1 2015-08-17  24914.0\n",
              "2 2015-08-18  25874.0\n",
              "3 2015-08-19  25517.0\n",
              "4 2015-08-20  25863.0"
            ]
          },
          "metadata": {
            "tags": []
          },
          "execution_count": 117
        }
      ]
    },
    {
      "cell_type": "code",
      "metadata": {
        "id": "XFqSRpLeCwCs",
        "outputId": "57e2a865-a8ed-4446-d43d-640149ac2ff0",
        "colab": {
          "base_uri": "https://localhost:8080/",
          "height": 204
        }
      },
      "source": [
        "topo = 0\n",
        "dd = 0\n",
        "dd_rel = 0\n",
        "result = []\n",
        "\n",
        "for i in range(len(df_portfolio)) : \n",
        "  dif = 0\n",
        "  if (i != 0) :\n",
        "    dif = df_portfolio.loc[i, 'Total'] - df_portfolio.loc[i-1, 'Total']\n",
        "  if (dif > 0) :\n",
        "    result.append(1)\n",
        "  else : \n",
        "    result.append(0)\n",
        "  if (df_portfolio.loc[i, 'Total'] > topo) :\n",
        "    topo = df_portfolio.loc[i, 'Total']\n",
        "  if ((df_portfolio.loc[i, 'Total'] - topo) < dd ) :\n",
        "    dd = (df_portfolio.loc[i, 'Total'] - topo)\n",
        "    dd_rel = (dd * 100) / (topo+15000)\n",
        "\n",
        "df_portfolio['Result'] = result\n",
        "\n",
        "df_portfolio.head()"
      ],
      "execution_count": 120,
      "outputs": [
        {
          "output_type": "execute_result",
          "data": {
            "text/html": [
              "<div>\n",
              "<style scoped>\n",
              "    .dataframe tbody tr th:only-of-type {\n",
              "        vertical-align: middle;\n",
              "    }\n",
              "\n",
              "    .dataframe tbody tr th {\n",
              "        vertical-align: top;\n",
              "    }\n",
              "\n",
              "    .dataframe thead th {\n",
              "        text-align: right;\n",
              "    }\n",
              "</style>\n",
              "<table border=\"1\" class=\"dataframe\">\n",
              "  <thead>\n",
              "    <tr style=\"text-align: right;\">\n",
              "      <th></th>\n",
              "      <th>Data</th>\n",
              "      <th>Total</th>\n",
              "      <th>Result</th>\n",
              "    </tr>\n",
              "  </thead>\n",
              "  <tbody>\n",
              "    <tr>\n",
              "      <th>0</th>\n",
              "      <td>2015-08-15</td>\n",
              "      <td>25000.0</td>\n",
              "      <td>0</td>\n",
              "    </tr>\n",
              "    <tr>\n",
              "      <th>1</th>\n",
              "      <td>2015-08-17</td>\n",
              "      <td>24914.0</td>\n",
              "      <td>0</td>\n",
              "    </tr>\n",
              "    <tr>\n",
              "      <th>2</th>\n",
              "      <td>2015-08-18</td>\n",
              "      <td>25874.0</td>\n",
              "      <td>1</td>\n",
              "    </tr>\n",
              "    <tr>\n",
              "      <th>3</th>\n",
              "      <td>2015-08-19</td>\n",
              "      <td>25517.0</td>\n",
              "      <td>0</td>\n",
              "    </tr>\n",
              "    <tr>\n",
              "      <th>4</th>\n",
              "      <td>2015-08-20</td>\n",
              "      <td>25863.0</td>\n",
              "      <td>1</td>\n",
              "    </tr>\n",
              "  </tbody>\n",
              "</table>\n",
              "</div>"
            ],
            "text/plain": [
              "        Data    Total  Result\n",
              "0 2015-08-15  25000.0       0\n",
              "1 2015-08-17  24914.0       0\n",
              "2 2015-08-18  25874.0       1\n",
              "3 2015-08-19  25517.0       0\n",
              "4 2015-08-20  25863.0       1"
            ]
          },
          "metadata": {
            "tags": []
          },
          "execution_count": 120
        }
      ]
    },
    {
      "cell_type": "code",
      "metadata": {
        "id": "jq9NIODVCoQz",
        "outputId": "2eb42522-f06c-4aef-f9af-81de0db622ea",
        "colab": {
          "base_uri": "https://localhost:8080/",
          "height": 102
        }
      },
      "source": [
        "\n",
        "print(\"Dias Positivos: \"+ str(Counter(df_portfolio['Result'])[1]))\n",
        "print(\"Dias Negativos: \"+ str(Counter(df_portfolio['Result'])[0]))\n",
        "print(\"Taxa de Acerto: \"+('{:.2f}'.format((Counter(df_portfolio['Result'])[1] * 100) / (Counter(df_portfolio['Result'])[0] + Counter(df_portfolio['Result'])[1]) )+\"%\"))\n",
        "print(\"Drawdown Máximo: \"+str(dd))\n",
        "print(\"Drawdown Relativo: \"+('{:.2f}'.format(dd_rel))+\"%\")"
      ],
      "execution_count": 121,
      "outputs": [
        {
          "output_type": "stream",
          "text": [
            "Dias Positivos: 526\n",
            "Dias Negativos: 392\n",
            "Taxa de Acerto: 57.30%\n",
            "Drawdown Máximo: -2115.0\n",
            "Drawdown Relativo: -2.79%\n"
          ],
          "name": "stdout"
        }
      ]
    },
    {
      "cell_type": "code",
      "metadata": {
        "id": "YRFkhXgD9FHK",
        "outputId": "1029273b-9dc3-4fc6-f128-be0b5a1d9f1c",
        "colab": {
          "base_uri": "https://localhost:8080/",
          "height": 415
        }
      },
      "source": [
        "plt.figure(figsize=(15,7))\n",
        "plt.xticks([])\n",
        "plt.autoscale(tight=True)\n",
        "plt.plot(df_portfolio['Data'], df_portfolio['Total'] )\n",
        "plt.show();"
      ],
      "execution_count": 118,
      "outputs": [
        {
          "output_type": "display_data",
          "data": {
            "image/png": "[encoded data removed]",
            "text/plain": [
              "<Figure size 1080x504 with 1 Axes>"
            ]
          },
          "metadata": {
            "tags": [],
            "needs_background": "light"
          }
        }
      ]
    },
    {
      "cell_type": "markdown",
      "metadata": {
        "id": "RH4hx56YDyMF"
      },
      "source": [
        "### Análise de correlação entre as estratégias"
      ]
    },
    {
      "cell_type": "code",
      "metadata": {
        "id": "xSPv27b0D1bj",
        "outputId": "23a17e43-f99e-4a6d-af67-4a5fda5a59cd",
        "colab": {
          "base_uri": "https://localhost:8080/",
          "height": 204
        }
      },
      "source": [
        "dfCorrel = pd.DataFrame(index=df_portfolio.index)  \n",
        "dfCorrel['BANDAS'] = df_bandas['Dif']  \n",
        "dfCorrel['Rompimento X'] = df_rompimentox.loc[:,'Dif']  \n",
        "dfCorrel['MMV 2'] = df_mmv2.loc[:,'Dif']  \n",
        "dfCorrel['IFR'] = df_ifr.loc[:,'Dif']  \n",
        "\n",
        "dfCorrel.head()"
      ],
      "execution_count": 126,
      "outputs": [
        {
          "output_type": "execute_result",
          "data": {
            "text/html": [
              "<div>\n",
              "<style scoped>\n",
              "    .dataframe tbody tr th:only-of-type {\n",
              "        vertical-align: middle;\n",
              "    }\n",
              "\n",
              "    .dataframe tbody tr th {\n",
              "        vertical-align: top;\n",
              "    }\n",
              "\n",
              "    .dataframe thead th {\n",
              "        text-align: right;\n",
              "    }\n",
              "</style>\n",
              "<table border=\"1\" class=\"dataframe\">\n",
              "  <thead>\n",
              "    <tr style=\"text-align: right;\">\n",
              "      <th></th>\n",
              "      <th>BANDAS</th>\n",
              "      <th>Rompimento X</th>\n",
              "      <th>MMV 2</th>\n",
              "      <th>IFR</th>\n",
              "    </tr>\n",
              "  </thead>\n",
              "  <tbody>\n",
              "    <tr>\n",
              "      <th>0</th>\n",
              "      <td>0.0</td>\n",
              "      <td>0.0</td>\n",
              "      <td>0.0</td>\n",
              "      <td>0.0</td>\n",
              "    </tr>\n",
              "    <tr>\n",
              "      <th>1</th>\n",
              "      <td>-54.0</td>\n",
              "      <td>54.0</td>\n",
              "      <td>-74.0</td>\n",
              "      <td>-12.0</td>\n",
              "    </tr>\n",
              "    <tr>\n",
              "      <th>2</th>\n",
              "      <td>193.0</td>\n",
              "      <td>294.0</td>\n",
              "      <td>136.0</td>\n",
              "      <td>337.0</td>\n",
              "    </tr>\n",
              "    <tr>\n",
              "      <th>3</th>\n",
              "      <td>-112.0</td>\n",
              "      <td>-178.0</td>\n",
              "      <td>4.0</td>\n",
              "      <td>-71.0</td>\n",
              "    </tr>\n",
              "    <tr>\n",
              "      <th>4</th>\n",
              "      <td>48.0</td>\n",
              "      <td>85.0</td>\n",
              "      <td>109.0</td>\n",
              "      <td>104.0</td>\n",
              "    </tr>\n",
              "  </tbody>\n",
              "</table>\n",
              "</div>"
            ],
            "text/plain": [
              "   BANDAS  Rompimento X  MMV 2    IFR\n",
              "0     0.0           0.0    0.0    0.0\n",
              "1   -54.0          54.0  -74.0  -12.0\n",
              "2   193.0         294.0  136.0  337.0\n",
              "3  -112.0        -178.0    4.0  -71.0\n",
              "4    48.0          85.0  109.0  104.0"
            ]
          },
          "metadata": {
            "tags": []
          },
          "execution_count": 126
        }
      ]
    },
    {
      "cell_type": "code",
      "metadata": {
        "id": "vnXqeg5FEI2c",
        "outputId": "af1b4da1-41eb-40e9-db2b-a3c232d38427",
        "colab": {
          "base_uri": "https://localhost:8080/",
          "height": 124
        }
      },
      "source": [
        "corr = dfCorrel.corr()\n",
        "corr.style.background_gradient(cmap='coolwarm')"
      ],
      "execution_count": 127,
      "outputs": [
        {
          "output_type": "execute_result",
          "data": {
            "text/html": [
              "<style  type=\"text/css\" >\n",
              "#T_705701d2_0e41_11eb_aba5_0242ac1c0002row0_col0,#T_705701d2_0e41_11eb_aba5_0242ac1c0002row1_col1,#T_705701d2_0e41_11eb_aba5_0242ac1c0002row2_col2,#T_705701d2_0e41_11eb_aba5_0242ac1c0002row3_col3{\n",
              "            background-color:  #b40426;\n",
              "            color:  #f1f1f1;\n",
              "        }#T_705701d2_0e41_11eb_aba5_0242ac1c0002row0_col1,#T_705701d2_0e41_11eb_aba5_0242ac1c0002row0_col2,#T_705701d2_0e41_11eb_aba5_0242ac1c0002row0_col3,#T_705701d2_0e41_11eb_aba5_0242ac1c0002row1_col0{\n",
              "            background-color:  #3b4cc0;\n",
              "            color:  #f1f1f1;\n",
              "        }#T_705701d2_0e41_11eb_aba5_0242ac1c0002row1_col2{\n",
              "            background-color:  #455cce;\n",
              "            color:  #f1f1f1;\n",
              "        }#T_705701d2_0e41_11eb_aba5_0242ac1c0002row1_col3{\n",
              "            background-color:  #4c66d6;\n",
              "            color:  #000000;\n",
              "        }#T_705701d2_0e41_11eb_aba5_0242ac1c0002row2_col0,#T_705701d2_0e41_11eb_aba5_0242ac1c0002row2_col3{\n",
              "            background-color:  #3e51c5;\n",
              "            color:  #f1f1f1;\n",
              "        }#T_705701d2_0e41_11eb_aba5_0242ac1c0002row2_col1{\n",
              "            background-color:  #4a63d3;\n",
              "            color:  #f1f1f1;\n",
              "        }#T_705701d2_0e41_11eb_aba5_0242ac1c0002row3_col0,#T_705701d2_0e41_11eb_aba5_0242ac1c0002row3_col2{\n",
              "            background-color:  #485fd1;\n",
              "            color:  #f1f1f1;\n",
              "        }#T_705701d2_0e41_11eb_aba5_0242ac1c0002row3_col1{\n",
              "            background-color:  #5a78e4;\n",
              "            color:  #000000;\n",
              "        }</style><table id=\"T_705701d2_0e41_11eb_aba5_0242ac1c0002\" ><thead>    <tr>        <th class=\"blank level0\" ></th>        <th class=\"col_heading level0 col0\" >BANDAS</th>        <th class=\"col_heading level0 col1\" >Rompimento X</th>        <th class=\"col_heading level0 col2\" >MMV 2</th>        <th class=\"col_heading level0 col3\" >IFR</th>    </tr></thead><tbody>\n",
              "                <tr>\n",
              "                        <th id=\"T_705701d2_0e41_11eb_aba5_0242ac1c0002level0_row0\" class=\"row_heading level0 row0\" >BANDAS</th>\n",
              "                        <td id=\"T_705701d2_0e41_11eb_aba5_0242ac1c0002row0_col0\" class=\"data row0 col0\" >1.000000</td>\n",
              "                        <td id=\"T_705701d2_0e41_11eb_aba5_0242ac1c0002row0_col1\" class=\"data row0 col1\" >-0.047012</td>\n",
              "                        <td id=\"T_705701d2_0e41_11eb_aba5_0242ac1c0002row0_col2\" class=\"data row0 col2\" >-0.032027</td>\n",
              "                        <td id=\"T_705701d2_0e41_11eb_aba5_0242ac1c0002row0_col3\" class=\"data row0 col3\" >-0.000005</td>\n",
              "            </tr>\n",
              "            <tr>\n",
              "                        <th id=\"T_705701d2_0e41_11eb_aba5_0242ac1c0002level0_row1\" class=\"row_heading level0 row1\" >Rompimento X</th>\n",
              "                        <td id=\"T_705701d2_0e41_11eb_aba5_0242ac1c0002row1_col0\" class=\"data row1 col0\" >-0.047012</td>\n",
              "                        <td id=\"T_705701d2_0e41_11eb_aba5_0242ac1c0002row1_col1\" class=\"data row1 col1\" >1.000000</td>\n",
              "                        <td id=\"T_705701d2_0e41_11eb_aba5_0242ac1c0002row1_col2\" class=\"data row1 col2\" >0.006334</td>\n",
              "                        <td id=\"T_705701d2_0e41_11eb_aba5_0242ac1c0002row1_col3\" class=\"data row1 col3\" >0.061487</td>\n",
              "            </tr>\n",
              "            <tr>\n",
              "                        <th id=\"T_705701d2_0e41_11eb_aba5_0242ac1c0002level0_row2\" class=\"row_heading level0 row2\" >MMV 2</th>\n",
              "                        <td id=\"T_705701d2_0e41_11eb_aba5_0242ac1c0002row2_col0\" class=\"data row2 col0\" >-0.032027</td>\n",
              "                        <td id=\"T_705701d2_0e41_11eb_aba5_0242ac1c0002row2_col1\" class=\"data row2 col1\" >0.006334</td>\n",
              "                        <td id=\"T_705701d2_0e41_11eb_aba5_0242ac1c0002row2_col2\" class=\"data row2 col2\" >1.000000</td>\n",
              "                        <td id=\"T_705701d2_0e41_11eb_aba5_0242ac1c0002row2_col3\" class=\"data row2 col3\" >0.014765</td>\n",
              "            </tr>\n",
              "            <tr>\n",
              "                        <th id=\"T_705701d2_0e41_11eb_aba5_0242ac1c0002level0_row3\" class=\"row_heading level0 row3\" >IFR</th>\n",
              "                        <td id=\"T_705701d2_0e41_11eb_aba5_0242ac1c0002row3_col0\" class=\"data row3 col0\" >-0.000005</td>\n",
              "                        <td id=\"T_705701d2_0e41_11eb_aba5_0242ac1c0002row3_col1\" class=\"data row3 col1\" >0.061487</td>\n",
              "                        <td id=\"T_705701d2_0e41_11eb_aba5_0242ac1c0002row3_col2\" class=\"data row3 col2\" >0.014765</td>\n",
              "                        <td id=\"T_705701d2_0e41_11eb_aba5_0242ac1c0002row3_col3\" class=\"data row3 col3\" >1.000000</td>\n",
              "            </tr>\n",
              "    </tbody></table>"
            ],
            "text/plain": [
              "<pandas.io.formats.style.Styler at 0x7f75c3be2a20>"
            ]
          },
          "metadata": {
            "tags": []
          },
          "execution_count": 127
        }
      ]
    }
  ]
}