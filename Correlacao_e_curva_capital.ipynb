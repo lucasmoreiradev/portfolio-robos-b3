{
  "nbformat": 4,
  "nbformat_minor": 0,
  "metadata": {
    "colab": {
      "name": "Correlacao e curva capital.ipynb",
      "provenance": [],
      "collapsed_sections": [],
      "authorship_tag": "ABX9TyN9KPiwh6Mq/KA4i0GG5vxv",
      "include_colab_link": true
    },
    "kernelspec": {
      "name": "python3",
      "display_name": "Python 3"
    }
  },
  "cells": [
    {
      "cell_type": "markdown",
      "metadata": {
        "id": "view-in-github",
        "colab_type": "text"
      },
      "source": [
        "<a href=\"https://colab.research.google.com/github/lucasmoreiradev/portfolio-robos-b3/blob/main/Correlacao_e_curva_capital.ipynb\" target=\"_parent\"><img src=\"https://colab.research.google.com/assets/colab-badge.svg\" alt=\"Open In Colab\"/></a>"
      ]
    },
    {
      "cell_type": "markdown",
      "metadata": {
        "id": "2f0oLsrBwRml"
      },
      "source": [
        "### **Todos os robôs possuem um capital inicial de R$ 10.000,00. O período analisado é de toda a história disponibilizada no MetaTrader 5. O intuito é gerar um portfólio com uma curva suavizada de capital, através da diversificação.**"
      ]
    },
    {
      "cell_type": "code",
      "metadata": {
        "id": "RpSsvBLwuEwn",
        "outputId": "9f69dcf5-0aa4-4935-cfed-473c9c8697b1",
        "colab": {
          "base_uri": "https://localhost:8080/",
          "height": 204
        }
      },
      "source": [
        "import pandas as pd\n",
        "import matplotlib.pyplot as plt\n",
        "import seaborn as sns\n",
        "import numpy as np\n",
        "from collections import Counter\n",
        "\n",
        "%matplotlib inline\n",
        "\n",
        "df_bandas = pd.read_csv('https://raw.githubusercontent.com/lucasmoreiradev/portfolio-robos-b3/main/bandas.csv', encoding = \"ISO-8859-1\", sep=';')\n",
        "\n",
        "df_bandas['Data'] = pd.to_datetime(df_bandas['<DATE>']).dt.normalize()\n",
        "df_bandas = df_bandas.drop(columns=['<DATE>', '<EQUITY>', '<DEPOSIT LOAD>'])\n",
        "df_bandas = df_bandas[['Data', '<BALANCE>']]\n",
        "df_bandas.columns = ['Data', 'Saldo']\n",
        "df_bandas = df_bandas.groupby('Data', as_index = False).last()\n",
        "df_bandas.head()\n"
      ],
      "execution_count": 4,
      "outputs": [
        {
          "output_type": "execute_result",
          "data": {
            "text/html": [
              "<div>\n",
              "<style scoped>\n",
              "    .dataframe tbody tr th:only-of-type {\n",
              "        vertical-align: middle;\n",
              "    }\n",
              "\n",
              "    .dataframe tbody tr th {\n",
              "        vertical-align: top;\n",
              "    }\n",
              "\n",
              "    .dataframe thead th {\n",
              "        text-align: right;\n",
              "    }\n",
              "</style>\n",
              "<table border=\"1\" class=\"dataframe\">\n",
              "  <thead>\n",
              "    <tr style=\"text-align: right;\">\n",
              "      <th></th>\n",
              "      <th>Data</th>\n",
              "      <th>Saldo</th>\n",
              "    </tr>\n",
              "  </thead>\n",
              "  <tbody>\n",
              "    <tr>\n",
              "      <th>0</th>\n",
              "      <td>2015-08-15</td>\n",
              "      <td>10000.0</td>\n",
              "    </tr>\n",
              "    <tr>\n",
              "      <th>1</th>\n",
              "      <td>2015-08-17</td>\n",
              "      <td>9946.0</td>\n",
              "    </tr>\n",
              "    <tr>\n",
              "      <th>2</th>\n",
              "      <td>2015-08-18</td>\n",
              "      <td>10139.0</td>\n",
              "    </tr>\n",
              "    <tr>\n",
              "      <th>3</th>\n",
              "      <td>2015-08-19</td>\n",
              "      <td>10027.0</td>\n",
              "    </tr>\n",
              "    <tr>\n",
              "      <th>4</th>\n",
              "      <td>2015-08-20</td>\n",
              "      <td>10075.0</td>\n",
              "    </tr>\n",
              "  </tbody>\n",
              "</table>\n",
              "</div>"
            ],
            "text/plain": [
              "        Data    Saldo\n",
              "0 2015-08-15  10000.0\n",
              "1 2015-08-17   9946.0\n",
              "2 2015-08-18  10139.0\n",
              "3 2015-08-19  10027.0\n",
              "4 2015-08-20  10075.0"
            ]
          },
          "metadata": {
            "tags": []
          },
          "execution_count": 4
        }
      ]
    },
    {
      "cell_type": "code",
      "metadata": {
        "id": "OnbyGM09x6OY",
        "outputId": "8c781bbf-3baa-44db-8eca-b2d467ef9de9",
        "colab": {
          "base_uri": "https://localhost:8080/",
          "height": 204
        }
      },
      "source": [
        "\n",
        "df_ifr = pd.read_csv('https://raw.githubusercontent.com/lucasmoreiradev/portfolio-robos-b3/main/ifr.csv', encoding = \"ISO-8859-1\", sep=';')\n",
        "df_ifr['Data'] = pd.to_datetime(df_ifr['<DATE>']).dt.normalize()\n",
        "df_ifr = df_ifr.drop(columns=['<DATE>', '<EQUITY>', '<DEPOSIT LOAD>'])\n",
        "df_ifr = df_ifr[['Data', '<BALANCE>']]\n",
        "df_ifr.columns = ['Data', 'Saldo']\n",
        "df_ifr = df_ifr.groupby('Data', as_index = False).last()\n",
        "df_ifr.head()"
      ],
      "execution_count": 5,
      "outputs": [
        {
          "output_type": "execute_result",
          "data": {
            "text/html": [
              "<div>\n",
              "<style scoped>\n",
              "    .dataframe tbody tr th:only-of-type {\n",
              "        vertical-align: middle;\n",
              "    }\n",
              "\n",
              "    .dataframe tbody tr th {\n",
              "        vertical-align: top;\n",
              "    }\n",
              "\n",
              "    .dataframe thead th {\n",
              "        text-align: right;\n",
              "    }\n",
              "</style>\n",
              "<table border=\"1\" class=\"dataframe\">\n",
              "  <thead>\n",
              "    <tr style=\"text-align: right;\">\n",
              "      <th></th>\n",
              "      <th>Data</th>\n",
              "      <th>Saldo</th>\n",
              "    </tr>\n",
              "  </thead>\n",
              "  <tbody>\n",
              "    <tr>\n",
              "      <th>0</th>\n",
              "      <td>2015-08-15</td>\n",
              "      <td>10000.0</td>\n",
              "    </tr>\n",
              "    <tr>\n",
              "      <th>1</th>\n",
              "      <td>2015-08-17</td>\n",
              "      <td>9988.0</td>\n",
              "    </tr>\n",
              "    <tr>\n",
              "      <th>2</th>\n",
              "      <td>2015-08-18</td>\n",
              "      <td>10325.0</td>\n",
              "    </tr>\n",
              "    <tr>\n",
              "      <th>3</th>\n",
              "      <td>2015-08-19</td>\n",
              "      <td>10254.0</td>\n",
              "    </tr>\n",
              "    <tr>\n",
              "      <th>4</th>\n",
              "      <td>2015-08-20</td>\n",
              "      <td>10358.0</td>\n",
              "    </tr>\n",
              "  </tbody>\n",
              "</table>\n",
              "</div>"
            ],
            "text/plain": [
              "        Data    Saldo\n",
              "0 2015-08-15  10000.0\n",
              "1 2015-08-17   9988.0\n",
              "2 2015-08-18  10325.0\n",
              "3 2015-08-19  10254.0\n",
              "4 2015-08-20  10358.0"
            ]
          },
          "metadata": {
            "tags": []
          },
          "execution_count": 5
        }
      ]
    },
    {
      "cell_type": "code",
      "metadata": {
        "id": "zqRdyT3EyCVz",
        "outputId": "0a227033-0927-4685-c168-fd65b49864cc",
        "colab": {
          "base_uri": "https://localhost:8080/",
          "height": 204
        }
      },
      "source": [
        "df_rompimentox = pd.read_csv('https://raw.githubusercontent.com/lucasmoreiradev/portfolio-robos-b3/main/rompimentox.csv', encoding = \"ISO-8859-1\", sep=';')\n",
        "df_rompimentox['Data'] = pd.to_datetime(df_rompimentox['<DATE>']).dt.normalize()\n",
        "df_rompimentox = df_rompimentox.drop(columns=['<DATE>', '<EQUITY>', '<DEPOSIT LOAD>'])\n",
        "df_rompimentox = df_rompimentox[['Data', '<BALANCE>']]\n",
        "df_rompimentox.columns = ['Data', 'Saldo']\n",
        "df_rompimentox = df_rompimentox.groupby('Data', as_index = False).last()\n",
        "df_rompimentox.head()"
      ],
      "execution_count": 6,
      "outputs": [
        {
          "output_type": "execute_result",
          "data": {
            "text/html": [
              "<div>\n",
              "<style scoped>\n",
              "    .dataframe tbody tr th:only-of-type {\n",
              "        vertical-align: middle;\n",
              "    }\n",
              "\n",
              "    .dataframe tbody tr th {\n",
              "        vertical-align: top;\n",
              "    }\n",
              "\n",
              "    .dataframe thead th {\n",
              "        text-align: right;\n",
              "    }\n",
              "</style>\n",
              "<table border=\"1\" class=\"dataframe\">\n",
              "  <thead>\n",
              "    <tr style=\"text-align: right;\">\n",
              "      <th></th>\n",
              "      <th>Data</th>\n",
              "      <th>Saldo</th>\n",
              "    </tr>\n",
              "  </thead>\n",
              "  <tbody>\n",
              "    <tr>\n",
              "      <th>0</th>\n",
              "      <td>2015-08-15</td>\n",
              "      <td>10000.0</td>\n",
              "    </tr>\n",
              "    <tr>\n",
              "      <th>1</th>\n",
              "      <td>2015-08-17</td>\n",
              "      <td>10054.0</td>\n",
              "    </tr>\n",
              "    <tr>\n",
              "      <th>2</th>\n",
              "      <td>2015-08-18</td>\n",
              "      <td>10348.0</td>\n",
              "    </tr>\n",
              "    <tr>\n",
              "      <th>3</th>\n",
              "      <td>2015-08-19</td>\n",
              "      <td>10170.0</td>\n",
              "    </tr>\n",
              "    <tr>\n",
              "      <th>4</th>\n",
              "      <td>2015-08-20</td>\n",
              "      <td>10255.0</td>\n",
              "    </tr>\n",
              "  </tbody>\n",
              "</table>\n",
              "</div>"
            ],
            "text/plain": [
              "        Data    Saldo\n",
              "0 2015-08-15  10000.0\n",
              "1 2015-08-17  10054.0\n",
              "2 2015-08-18  10348.0\n",
              "3 2015-08-19  10170.0\n",
              "4 2015-08-20  10255.0"
            ]
          },
          "metadata": {
            "tags": []
          },
          "execution_count": 6
        }
      ]
    },
    {
      "cell_type": "code",
      "metadata": {
        "id": "og3Dmqn1yLfB",
        "outputId": "653e739a-af84-4da8-dd9c-8161086d4498",
        "colab": {
          "base_uri": "https://localhost:8080/",
          "height": 204
        }
      },
      "source": [
        "df_mmv2 = pd.read_csv('https://raw.githubusercontent.com/lucasmoreiradev/portfolio-robos-b3/main/mmv2.csv', encoding = \"ISO-8859-1\", sep=';')\n",
        "df_mmv2['Data'] = pd.to_datetime(df_mmv2['<DATE>']).dt.normalize()\n",
        "df_mmv2 = df_mmv2.drop(columns=['<DATE>', '<EQUITY>', '<DEPOSIT LOAD>'])\n",
        "df_mmv2 = df_mmv2[['Data', '<BALANCE>']]\n",
        "df_mmv2.columns = ['Data', 'Saldo']\n",
        "df_mmv2 = df_mmv2.groupby('Data', as_index = False).last()\n",
        "df_mmv2.head()"
      ],
      "execution_count": 7,
      "outputs": [
        {
          "output_type": "execute_result",
          "data": {
            "text/html": [
              "<div>\n",
              "<style scoped>\n",
              "    .dataframe tbody tr th:only-of-type {\n",
              "        vertical-align: middle;\n",
              "    }\n",
              "\n",
              "    .dataframe tbody tr th {\n",
              "        vertical-align: top;\n",
              "    }\n",
              "\n",
              "    .dataframe thead th {\n",
              "        text-align: right;\n",
              "    }\n",
              "</style>\n",
              "<table border=\"1\" class=\"dataframe\">\n",
              "  <thead>\n",
              "    <tr style=\"text-align: right;\">\n",
              "      <th></th>\n",
              "      <th>Data</th>\n",
              "      <th>Saldo</th>\n",
              "    </tr>\n",
              "  </thead>\n",
              "  <tbody>\n",
              "    <tr>\n",
              "      <th>0</th>\n",
              "      <td>2015-08-15</td>\n",
              "      <td>10000.0</td>\n",
              "    </tr>\n",
              "    <tr>\n",
              "      <th>1</th>\n",
              "      <td>2015-08-18</td>\n",
              "      <td>9926.0</td>\n",
              "    </tr>\n",
              "    <tr>\n",
              "      <th>2</th>\n",
              "      <td>2015-08-19</td>\n",
              "      <td>10062.0</td>\n",
              "    </tr>\n",
              "    <tr>\n",
              "      <th>3</th>\n",
              "      <td>2015-08-20</td>\n",
              "      <td>10066.0</td>\n",
              "    </tr>\n",
              "    <tr>\n",
              "      <th>4</th>\n",
              "      <td>2015-08-21</td>\n",
              "      <td>10175.0</td>\n",
              "    </tr>\n",
              "  </tbody>\n",
              "</table>\n",
              "</div>"
            ],
            "text/plain": [
              "        Data    Saldo\n",
              "0 2015-08-15  10000.0\n",
              "1 2015-08-18   9926.0\n",
              "2 2015-08-19  10062.0\n",
              "3 2015-08-20  10066.0\n",
              "4 2015-08-21  10175.0"
            ]
          },
          "metadata": {
            "tags": []
          },
          "execution_count": 7
        }
      ]
    },
    {
      "cell_type": "markdown",
      "metadata": {
        "id": "Mf1WNyRyyRki"
      },
      "source": [
        "### Curva de capital da estratégia de bandas"
      ]
    },
    {
      "cell_type": "code",
      "metadata": {
        "id": "I87JEFeKyUj3",
        "outputId": "6add710f-de48-48d3-fa22-e19fa95adea0",
        "colab": {
          "base_uri": "https://localhost:8080/",
          "height": 417
        }
      },
      "source": [
        "plt.figure(figsize=(15,7))\n",
        "plt.xticks([])\n",
        "plt.autoscale(tight=True)\n",
        "plt.plot(df_bandas['Data'], df_bandas['Saldo'] )\n",
        "plt.show();"
      ],
      "execution_count": 8,
      "outputs": [
        {
          "output_type": "display_data",
          "data": {
            "image/png": "[encoded data removed]",
            "text/plain": [
              "<Figure size 1080x504 with 1 Axes>"
            ]
          },
          "metadata": {
            "tags": [],
            "needs_background": "light"
          }
        }
      ]
    },
    {
      "cell_type": "markdown",
      "metadata": {
        "id": "aa3T1-Jqyink"
      },
      "source": [
        "### Curva de capital de estratégia IFR"
      ]
    },
    {
      "cell_type": "code",
      "metadata": {
        "id": "vZ1tuULmyl5X",
        "outputId": "5f13683e-ecf4-4c12-b07b-c791f4296df0",
        "colab": {
          "base_uri": "https://localhost:8080/",
          "height": 417
        }
      },
      "source": [
        "plt.figure(figsize=(15,7))\n",
        "plt.xticks([])\n",
        "plt.autoscale(tight=True)\n",
        "plt.plot(df_ifr['Data'], df_ifr['Saldo'] )\n",
        "plt.show();"
      ],
      "execution_count": 9,
      "outputs": [
        {
          "output_type": "display_data",
          "data": {
            "image/png": "[encoded data removed]",
            "text/plain": [
              "<Figure size 1080x504 with 1 Axes>"
            ]
          },
          "metadata": {
            "tags": [],
            "needs_background": "light"
          }
        }
      ]
    },
    {
      "cell_type": "markdown",
      "metadata": {
        "id": "buSn0Qfzyw21"
      },
      "source": [
        "### Curva de capital da estratégia rompimentox (curva acentuada na crise de 2020)"
      ]
    },
    {
      "cell_type": "code",
      "metadata": {
        "id": "n73F0wp2ywlK",
        "outputId": "461e2a75-e53b-487c-dd4f-b529c1c20cf9",
        "colab": {
          "base_uri": "https://localhost:8080/",
          "height": 415
        }
      },
      "source": [
        "plt.figure(figsize=(15,7))\n",
        "plt.xticks([])\n",
        "plt.autoscale(tight=True)\n",
        "plt.plot(df_rompimentox['Data'], df_rompimentox['Saldo'] )\n",
        "plt.show();"
      ],
      "execution_count": 10,
      "outputs": [
        {
          "output_type": "display_data",
          "data": {
            "image/png": "[encoded data removed]",
            "text/plain": [
              "<Figure size 1080x504 with 1 Axes>"
            ]
          },
          "metadata": {
            "tags": [],
            "needs_background": "light"
          }
        }
      ]
    },
    {
      "cell_type": "markdown",
      "metadata": {
        "id": "mPHHy_4WzAFj"
      },
      "source": [
        "### Curva de capital da estratégia mmv2 (também teve uma curva acentuada na crise de 2020)"
      ]
    },
    {
      "cell_type": "code",
      "metadata": {
        "id": "bql1al_uzCOK",
        "outputId": "ac3b159c-56f7-485c-b0ee-86ad5752f738",
        "colab": {
          "base_uri": "https://localhost:8080/",
          "height": 416
        }
      },
      "source": [
        "plt.figure(figsize=(15,7))\n",
        "plt.xticks([])\n",
        "plt.autoscale(tight=True)\n",
        "plt.plot(df_mmv2['Data'], df_mmv2['Saldo'] )\n",
        "plt.show();"
      ],
      "execution_count": 11,
      "outputs": [
        {
          "output_type": "display_data",
          "data": {
            "image/png": "[encoded data removed]",
            "text/plain": [
              "<Figure size 1080x504 with 1 Axes>"
            ]
          },
          "metadata": {
            "tags": [],
            "needs_background": "light"
          }
        }
      ]
    },
    {
      "cell_type": "markdown",
      "metadata": {
        "id": "LQqHBD548_-J"
      },
      "source": [
        "\n",
        "Obtendo dados estatísticos\n",
        "Aqui é criada mais 2 colunas \"Dif\" e \"Result\". Em Dif é armazenada a variação diária, sem acumular o valor para o dia seguinte, simplesmente o resultado financeiro do dia. Result é uma coluna categórica: \"1\" para dia com saldo positivo e \"0\" para dia negativo.\n",
        "\n",
        "Em seguida é calculado métricas importantes da estratégia: Dias positivos, dias negativos, taxa de acerto, drawdown absoluto e drawdown relativo ao capital acumulado."
      ]
    },
    {
      "cell_type": "code",
      "metadata": {
        "id": "1jyBMxN99ByB",
        "outputId": "335bb836-82c8-4834-b475-19a3446b0c67",
        "colab": {
          "base_uri": "https://localhost:8080/",
          "height": 204
        }
      },
      "source": [
        "data = [] \n",
        "result = []\n",
        "topo = 5000\n",
        "dd = 0\n",
        "dd_rel = 0\n",
        "\n",
        "data.append(0)\n",
        "for i in range(len(df_bandas)) : \n",
        "  dif = 0\n",
        "  if (i != 0) :\n",
        "    dif = df_bandas.loc[i, 'Saldo'] - df_bandas.loc[i-1, 'Saldo']\n",
        "    data.append(dif)\n",
        "  if (dif > 0) :\n",
        "    result.append(1)\n",
        "  else : \n",
        "    result.append(0)\n",
        "  if (df_bandas.loc[i, 'Saldo'] > topo) :\n",
        "    topo = df_bandas.loc[i, 'Saldo']\n",
        "  if ((df_bandas.loc[i, 'Saldo'] - topo) < dd ) :\n",
        "    dd = (df_bandas.loc[i, 'Saldo'] - topo)\n",
        "    dd_rel = (dd * 100) / topo\n",
        "\n",
        "df_bandas['Dif'] = data\n",
        "df_bandas['Result'] = result\n",
        "df_bandas.head()\n"
      ],
      "execution_count": 12,
      "outputs": [
        {
          "output_type": "execute_result",
          "data": {
            "text/html": [
              "<div>\n",
              "<style scoped>\n",
              "    .dataframe tbody tr th:only-of-type {\n",
              "        vertical-align: middle;\n",
              "    }\n",
              "\n",
              "    .dataframe tbody tr th {\n",
              "        vertical-align: top;\n",
              "    }\n",
              "\n",
              "    .dataframe thead th {\n",
              "        text-align: right;\n",
              "    }\n",
              "</style>\n",
              "<table border=\"1\" class=\"dataframe\">\n",
              "  <thead>\n",
              "    <tr style=\"text-align: right;\">\n",
              "      <th></th>\n",
              "      <th>Data</th>\n",
              "      <th>Saldo</th>\n",
              "      <th>Dif</th>\n",
              "      <th>Result</th>\n",
              "    </tr>\n",
              "  </thead>\n",
              "  <tbody>\n",
              "    <tr>\n",
              "      <th>0</th>\n",
              "      <td>2015-08-15</td>\n",
              "      <td>10000.0</td>\n",
              "      <td>0.0</td>\n",
              "      <td>0</td>\n",
              "    </tr>\n",
              "    <tr>\n",
              "      <th>1</th>\n",
              "      <td>2015-08-17</td>\n",
              "      <td>9946.0</td>\n",
              "      <td>-54.0</td>\n",
              "      <td>0</td>\n",
              "    </tr>\n",
              "    <tr>\n",
              "      <th>2</th>\n",
              "      <td>2015-08-18</td>\n",
              "      <td>10139.0</td>\n",
              "      <td>193.0</td>\n",
              "      <td>1</td>\n",
              "    </tr>\n",
              "    <tr>\n",
              "      <th>3</th>\n",
              "      <td>2015-08-19</td>\n",
              "      <td>10027.0</td>\n",
              "      <td>-112.0</td>\n",
              "      <td>0</td>\n",
              "    </tr>\n",
              "    <tr>\n",
              "      <th>4</th>\n",
              "      <td>2015-08-20</td>\n",
              "      <td>10075.0</td>\n",
              "      <td>48.0</td>\n",
              "      <td>1</td>\n",
              "    </tr>\n",
              "  </tbody>\n",
              "</table>\n",
              "</div>"
            ],
            "text/plain": [
              "        Data    Saldo    Dif  Result\n",
              "0 2015-08-15  10000.0    0.0       0\n",
              "1 2015-08-17   9946.0  -54.0       0\n",
              "2 2015-08-18  10139.0  193.0       1\n",
              "3 2015-08-19  10027.0 -112.0       0\n",
              "4 2015-08-20  10075.0   48.0       1"
            ]
          },
          "metadata": {
            "tags": []
          },
          "execution_count": 12
        }
      ]
    },
    {
      "cell_type": "code",
      "metadata": {
        "id": "DkHbK5E__SpX",
        "outputId": "a05d11ab-2b0f-4921-b1f9-42b9f1f50b05",
        "colab": {
          "base_uri": "https://localhost:8080/",
          "height": 102
        }
      },
      "source": [
        "print(\"Dias Positivos: \"+ str(Counter(df_bandas['Result'])[1]))\n",
        "print(\"Dias Negativos: \"+ str(Counter(df_bandas['Result'])[0]))\n",
        "print(\"Taxa de Acerto: \"+('{:.2f}'.format((Counter(df_bandas['Result'])[1] * 100) / (Counter(df_bandas['Result'])[0] + Counter(df_bandas['Result'])[1]) )+\"%\"))\n",
        "print(\"Drawdown Máximo: \"+str(dd))\n",
        "print(\"Drawdown Relativo: \"+('{:.2f}'.format(dd_rel))+\"%\")"
      ],
      "execution_count": 13,
      "outputs": [
        {
          "output_type": "stream",
          "text": [
            "Dias Positivos: 714\n",
            "Dias Negativos: 561\n",
            "Taxa de Acerto: 56.00%\n",
            "Drawdown Máximo: -2939.0\n",
            "Drawdown Relativo: -7.12%\n"
          ],
          "name": "stdout"
        }
      ]
    },
    {
      "cell_type": "code",
      "metadata": {
        "id": "8E3w013y_c3e",
        "outputId": "3ce276c1-f5c7-4e0d-8027-b55253f57dab",
        "colab": {
          "base_uri": "https://localhost:8080/",
          "height": 204
        }
      },
      "source": [
        "data = [] \n",
        "result = []\n",
        "topo = 5000\n",
        "dd = 0\n",
        "dd_rel = 0\n",
        "\n",
        "data.append(0)\n",
        "for i in range(len(df_ifr)) : \n",
        "  dif = 0\n",
        "  if (i != 0) :\n",
        "    dif = df_ifr.loc[i, 'Saldo'] - df_ifr.loc[i-1, 'Saldo']\n",
        "    data.append(dif)\n",
        "  if (dif > 0) :\n",
        "    result.append(1)\n",
        "  else : \n",
        "    result.append(0)\n",
        "  if (df_ifr.loc[i, 'Saldo'] > topo) :\n",
        "    topo = df_ifr.loc[i, 'Saldo']\n",
        "  if ((df_ifr.loc[i, 'Saldo'] - topo) < dd ) :\n",
        "    dd = (df_ifr.loc[i, 'Saldo'] - topo)\n",
        "    dd_rel = (dd * 100) / topo\n",
        "\n",
        "df_ifr['Dif'] = data\n",
        "df_ifr['Result'] = result\n",
        "df_ifr.head()\n"
      ],
      "execution_count": 14,
      "outputs": [
        {
          "output_type": "execute_result",
          "data": {
            "text/html": [
              "<div>\n",
              "<style scoped>\n",
              "    .dataframe tbody tr th:only-of-type {\n",
              "        vertical-align: middle;\n",
              "    }\n",
              "\n",
              "    .dataframe tbody tr th {\n",
              "        vertical-align: top;\n",
              "    }\n",
              "\n",
              "    .dataframe thead th {\n",
              "        text-align: right;\n",
              "    }\n",
              "</style>\n",
              "<table border=\"1\" class=\"dataframe\">\n",
              "  <thead>\n",
              "    <tr style=\"text-align: right;\">\n",
              "      <th></th>\n",
              "      <th>Data</th>\n",
              "      <th>Saldo</th>\n",
              "      <th>Dif</th>\n",
              "      <th>Result</th>\n",
              "    </tr>\n",
              "  </thead>\n",
              "  <tbody>\n",
              "    <tr>\n",
              "      <th>0</th>\n",
              "      <td>2015-08-15</td>\n",
              "      <td>10000.0</td>\n",
              "      <td>0.0</td>\n",
              "      <td>0</td>\n",
              "    </tr>\n",
              "    <tr>\n",
              "      <th>1</th>\n",
              "      <td>2015-08-17</td>\n",
              "      <td>9988.0</td>\n",
              "      <td>-12.0</td>\n",
              "      <td>0</td>\n",
              "    </tr>\n",
              "    <tr>\n",
              "      <th>2</th>\n",
              "      <td>2015-08-18</td>\n",
              "      <td>10325.0</td>\n",
              "      <td>337.0</td>\n",
              "      <td>1</td>\n",
              "    </tr>\n",
              "    <tr>\n",
              "      <th>3</th>\n",
              "      <td>2015-08-19</td>\n",
              "      <td>10254.0</td>\n",
              "      <td>-71.0</td>\n",
              "      <td>0</td>\n",
              "    </tr>\n",
              "    <tr>\n",
              "      <th>4</th>\n",
              "      <td>2015-08-20</td>\n",
              "      <td>10358.0</td>\n",
              "      <td>104.0</td>\n",
              "      <td>1</td>\n",
              "    </tr>\n",
              "  </tbody>\n",
              "</table>\n",
              "</div>"
            ],
            "text/plain": [
              "        Data    Saldo    Dif  Result\n",
              "0 2015-08-15  10000.0    0.0       0\n",
              "1 2015-08-17   9988.0  -12.0       0\n",
              "2 2015-08-18  10325.0  337.0       1\n",
              "3 2015-08-19  10254.0  -71.0       0\n",
              "4 2015-08-20  10358.0  104.0       1"
            ]
          },
          "metadata": {
            "tags": []
          },
          "execution_count": 14
        }
      ]
    },
    {
      "cell_type": "code",
      "metadata": {
        "id": "TbQ6OOmF_kUr",
        "outputId": "6339254a-4fc2-44b6-cf60-82685a9d7d7f",
        "colab": {
          "base_uri": "https://localhost:8080/",
          "height": 102
        }
      },
      "source": [
        "print(\"Dias Positivos: \"+ str(Counter(df_ifr['Result'])[1]))\n",
        "print(\"Dias Negativos: \"+ str(Counter(df_ifr['Result'])[0]))\n",
        "print(\"Taxa de Acerto: \"+('{:.2f}'.format((Counter(df_ifr['Result'])[1] * 100) / (Counter(df_ifr['Result'])[0] + Counter(df_ifr['Result'])[1]) )+\"%\"))\n",
        "print(\"Drawdown Máximo: \"+str(dd))\n",
        "print(\"Drawdown Relativo: \"+('{:.2f}'.format(dd_rel))+\"%\")"
      ],
      "execution_count": 15,
      "outputs": [
        {
          "output_type": "stream",
          "text": [
            "Dias Positivos: 561\n",
            "Dias Negativos: 548\n",
            "Taxa de Acerto: 50.59%\n",
            "Drawdown Máximo: -1486.0\n",
            "Drawdown Relativo: -6.50%\n"
          ],
          "name": "stdout"
        }
      ]
    },
    {
      "cell_type": "code",
      "metadata": {
        "id": "tJh-4869_q2f",
        "outputId": "d51183e6-10f6-4d6a-e39a-be2bbc242bee",
        "colab": {
          "base_uri": "https://localhost:8080/",
          "height": 204
        }
      },
      "source": [
        "data = [] \n",
        "result = []\n",
        "topo = 5000\n",
        "dd = 0\n",
        "dd_rel = 0\n",
        "\n",
        "data.append(0)\n",
        "for i in range(len(df_rompimentox)) : \n",
        "  dif = 0\n",
        "  if (i != 0) :\n",
        "    dif = df_rompimentox.loc[i, 'Saldo'] - df_rompimentox.loc[i-1, 'Saldo']\n",
        "    data.append(dif)\n",
        "  if (dif > 0) :\n",
        "    result.append(1)\n",
        "  else : \n",
        "    result.append(0)\n",
        "  if (df_rompimentox.loc[i, 'Saldo'] > topo) :\n",
        "    topo = df_rompimentox.loc[i, 'Saldo']\n",
        "  if ((df_rompimentox.loc[i, 'Saldo'] - topo) < dd ) :\n",
        "    dd = (df_rompimentox.loc[i, 'Saldo'] - topo)\n",
        "    dd_rel = (dd * 100) / topo\n",
        "\n",
        "df_rompimentox['Dif'] = data\n",
        "df_rompimentox['Result'] = result\n",
        "df_rompimentox.head()\n"
      ],
      "execution_count": 16,
      "outputs": [
        {
          "output_type": "execute_result",
          "data": {
            "text/html": [
              "<div>\n",
              "<style scoped>\n",
              "    .dataframe tbody tr th:only-of-type {\n",
              "        vertical-align: middle;\n",
              "    }\n",
              "\n",
              "    .dataframe tbody tr th {\n",
              "        vertical-align: top;\n",
              "    }\n",
              "\n",
              "    .dataframe thead th {\n",
              "        text-align: right;\n",
              "    }\n",
              "</style>\n",
              "<table border=\"1\" class=\"dataframe\">\n",
              "  <thead>\n",
              "    <tr style=\"text-align: right;\">\n",
              "      <th></th>\n",
              "      <th>Data</th>\n",
              "      <th>Saldo</th>\n",
              "      <th>Dif</th>\n",
              "      <th>Result</th>\n",
              "    </tr>\n",
              "  </thead>\n",
              "  <tbody>\n",
              "    <tr>\n",
              "      <th>0</th>\n",
              "      <td>2015-08-15</td>\n",
              "      <td>10000.0</td>\n",
              "      <td>0.0</td>\n",
              "      <td>0</td>\n",
              "    </tr>\n",
              "    <tr>\n",
              "      <th>1</th>\n",
              "      <td>2015-08-17</td>\n",
              "      <td>10054.0</td>\n",
              "      <td>54.0</td>\n",
              "      <td>1</td>\n",
              "    </tr>\n",
              "    <tr>\n",
              "      <th>2</th>\n",
              "      <td>2015-08-18</td>\n",
              "      <td>10348.0</td>\n",
              "      <td>294.0</td>\n",
              "      <td>1</td>\n",
              "    </tr>\n",
              "    <tr>\n",
              "      <th>3</th>\n",
              "      <td>2015-08-19</td>\n",
              "      <td>10170.0</td>\n",
              "      <td>-178.0</td>\n",
              "      <td>0</td>\n",
              "    </tr>\n",
              "    <tr>\n",
              "      <th>4</th>\n",
              "      <td>2015-08-20</td>\n",
              "      <td>10255.0</td>\n",
              "      <td>85.0</td>\n",
              "      <td>1</td>\n",
              "    </tr>\n",
              "  </tbody>\n",
              "</table>\n",
              "</div>"
            ],
            "text/plain": [
              "        Data    Saldo    Dif  Result\n",
              "0 2015-08-15  10000.0    0.0       0\n",
              "1 2015-08-17  10054.0   54.0       1\n",
              "2 2015-08-18  10348.0  294.0       1\n",
              "3 2015-08-19  10170.0 -178.0       0\n",
              "4 2015-08-20  10255.0   85.0       1"
            ]
          },
          "metadata": {
            "tags": []
          },
          "execution_count": 16
        }
      ]
    },
    {
      "cell_type": "code",
      "metadata": {
        "id": "IRbvcEym_00g",
        "outputId": "c64778f2-53e0-4cee-9442-1147681464de",
        "colab": {
          "base_uri": "https://localhost:8080/",
          "height": 102
        }
      },
      "source": [
        "print(\"Dias Positivos: \"+ str(Counter(df_rompimentox['Result'])[1]))\n",
        "print(\"Dias Negativos: \"+ str(Counter(df_rompimentox['Result'])[0]))\n",
        "print(\"Taxa de Acerto: \"+('{:.2f}'.format((Counter(df_rompimentox['Result'])[1] * 100) / (Counter(df_rompimentox['Result'])[0] + Counter(df_rompimentox['Result'])[1]) )+\"%\"))\n",
        "print(\"Drawdown Máximo: \"+str(dd))\n",
        "print(\"Drawdown Relativo: \"+('{:.2f}'.format(dd_rel))+\"%\")"
      ],
      "execution_count": 17,
      "outputs": [
        {
          "output_type": "stream",
          "text": [
            "Dias Positivos: 626\n",
            "Dias Negativos: 621\n",
            "Taxa de Acerto: 50.20%\n",
            "Drawdown Máximo: -2329.0\n",
            "Drawdown Relativo: -6.62%\n"
          ],
          "name": "stdout"
        }
      ]
    },
    {
      "cell_type": "code",
      "metadata": {
        "id": "cBXvYqZBAKQN",
        "outputId": "9f2774bb-eef5-41ac-bacc-9f7675e38cba",
        "colab": {
          "base_uri": "https://localhost:8080/",
          "height": 204
        }
      },
      "source": [
        "data = [] \n",
        "result = []\n",
        "topo = 5000\n",
        "dd = 0\n",
        "dd_rel = 0\n",
        "\n",
        "data.append(0)\n",
        "for i in range(len(df_mmv2)) : \n",
        "  dif = 0\n",
        "  if (i != 0) :\n",
        "    dif = df_mmv2.loc[i, 'Saldo'] - df_mmv2.loc[i-1, 'Saldo']\n",
        "    data.append(dif)\n",
        "  if (dif > 0) :\n",
        "    result.append(1)\n",
        "  else : \n",
        "    result.append(0)\n",
        "  if (df_mmv2.loc[i, 'Saldo'] > topo) :\n",
        "    topo = df_mmv2.loc[i, 'Saldo']\n",
        "  if ((df_mmv2.loc[i, 'Saldo'] - topo) < dd ) :\n",
        "    dd = (df_mmv2.loc[i, 'Saldo'] - topo)\n",
        "    dd_rel = (dd * 100) / topo\n",
        "\n",
        "df_mmv2['Dif'] = data\n",
        "df_mmv2['Result'] = result\n",
        "df_mmv2.head()"
      ],
      "execution_count": 18,
      "outputs": [
        {
          "output_type": "execute_result",
          "data": {
            "text/html": [
              "<div>\n",
              "<style scoped>\n",
              "    .dataframe tbody tr th:only-of-type {\n",
              "        vertical-align: middle;\n",
              "    }\n",
              "\n",
              "    .dataframe tbody tr th {\n",
              "        vertical-align: top;\n",
              "    }\n",
              "\n",
              "    .dataframe thead th {\n",
              "        text-align: right;\n",
              "    }\n",
              "</style>\n",
              "<table border=\"1\" class=\"dataframe\">\n",
              "  <thead>\n",
              "    <tr style=\"text-align: right;\">\n",
              "      <th></th>\n",
              "      <th>Data</th>\n",
              "      <th>Saldo</th>\n",
              "      <th>Dif</th>\n",
              "      <th>Result</th>\n",
              "    </tr>\n",
              "  </thead>\n",
              "  <tbody>\n",
              "    <tr>\n",
              "      <th>0</th>\n",
              "      <td>2015-08-15</td>\n",
              "      <td>10000.0</td>\n",
              "      <td>0.0</td>\n",
              "      <td>0</td>\n",
              "    </tr>\n",
              "    <tr>\n",
              "      <th>1</th>\n",
              "      <td>2015-08-18</td>\n",
              "      <td>9926.0</td>\n",
              "      <td>-74.0</td>\n",
              "      <td>0</td>\n",
              "    </tr>\n",
              "    <tr>\n",
              "      <th>2</th>\n",
              "      <td>2015-08-19</td>\n",
              "      <td>10062.0</td>\n",
              "      <td>136.0</td>\n",
              "      <td>1</td>\n",
              "    </tr>\n",
              "    <tr>\n",
              "      <th>3</th>\n",
              "      <td>2015-08-20</td>\n",
              "      <td>10066.0</td>\n",
              "      <td>4.0</td>\n",
              "      <td>1</td>\n",
              "    </tr>\n",
              "    <tr>\n",
              "      <th>4</th>\n",
              "      <td>2015-08-21</td>\n",
              "      <td>10175.0</td>\n",
              "      <td>109.0</td>\n",
              "      <td>1</td>\n",
              "    </tr>\n",
              "  </tbody>\n",
              "</table>\n",
              "</div>"
            ],
            "text/plain": [
              "        Data    Saldo    Dif  Result\n",
              "0 2015-08-15  10000.0    0.0       0\n",
              "1 2015-08-18   9926.0  -74.0       0\n",
              "2 2015-08-19  10062.0  136.0       1\n",
              "3 2015-08-20  10066.0    4.0       1\n",
              "4 2015-08-21  10175.0  109.0       1"
            ]
          },
          "metadata": {
            "tags": []
          },
          "execution_count": 18
        }
      ]
    },
    {
      "cell_type": "code",
      "metadata": {
        "id": "j3dCUIxuAWeE",
        "outputId": "02bc7bc0-c70c-4b06-c62c-f604c76dc171",
        "colab": {
          "base_uri": "https://localhost:8080/",
          "height": 102
        }
      },
      "source": [
        "print(\"Dias Positivos: \"+ str(Counter(df_mmv2['Result'])[1]))\n",
        "print(\"Dias Negativos: \"+ str(Counter(df_mmv2['Result'])[0]))\n",
        "print(\"Taxa de Acerto: \"+('{:.2f}'.format((Counter(df_mmv2['Result'])[1] * 100) / (Counter(df_mmv2['Result'])[0] + Counter(df_mmv2['Result'])[1]) )+\"%\"))\n",
        "print(\"Drawdown Máximo: \"+str(dd))\n",
        "print(\"Drawdown Relativo: \"+('{:.2f}'.format(dd_rel))+\"%\")"
      ],
      "execution_count": 19,
      "outputs": [
        {
          "output_type": "stream",
          "text": [
            "Dias Positivos: 500\n",
            "Dias Negativos: 418\n",
            "Taxa de Acerto: 54.47%\n",
            "Drawdown Máximo: -3901.0\n",
            "Drawdown Relativo: -23.81%\n"
          ],
          "name": "stdout"
        }
      ]
    },
    {
      "cell_type": "code",
      "metadata": {
        "id": "1Kg_qjvM7yGX",
        "outputId": "a05171c1-484f-43a4-e8f1-a3dfad8adbd5",
        "colab": {
          "base_uri": "https://localhost:8080/",
          "height": 204
        }
      },
      "source": [
        "\n",
        "data = [] \n",
        "balances = []\n",
        "\n",
        "df_portfolio = pd.DataFrame()\n",
        "\n",
        "for i in range(918) : \n",
        "  data.append(df_bandas.loc[i, \"Data\"])\n",
        "  balances.append((df_bandas.loc[i, \"Saldo\"] + df_ifr.loc[i, \"Saldo\"] + df_mmv2.loc[i, \"Saldo\"] + df_rompimentox.loc[i, \"Saldo\"]) - 40000)\n",
        "\n",
        "dados = {'Data': data, 'Total': balances} \n",
        "  \n",
        "df_portfolio = pd.DataFrame(dados) \n",
        "df_portfolio.head()"
      ],
      "execution_count": 26,
      "outputs": [
        {
          "output_type": "execute_result",
          "data": {
            "text/html": [
              "<div>\n",
              "<style scoped>\n",
              "    .dataframe tbody tr th:only-of-type {\n",
              "        vertical-align: middle;\n",
              "    }\n",
              "\n",
              "    .dataframe tbody tr th {\n",
              "        vertical-align: top;\n",
              "    }\n",
              "\n",
              "    .dataframe thead th {\n",
              "        text-align: right;\n",
              "    }\n",
              "</style>\n",
              "<table border=\"1\" class=\"dataframe\">\n",
              "  <thead>\n",
              "    <tr style=\"text-align: right;\">\n",
              "      <th></th>\n",
              "      <th>Data</th>\n",
              "      <th>Total</th>\n",
              "    </tr>\n",
              "  </thead>\n",
              "  <tbody>\n",
              "    <tr>\n",
              "      <th>0</th>\n",
              "      <td>2015-08-15</td>\n",
              "      <td>0.0</td>\n",
              "    </tr>\n",
              "    <tr>\n",
              "      <th>1</th>\n",
              "      <td>2015-08-17</td>\n",
              "      <td>-86.0</td>\n",
              "    </tr>\n",
              "    <tr>\n",
              "      <th>2</th>\n",
              "      <td>2015-08-18</td>\n",
              "      <td>874.0</td>\n",
              "    </tr>\n",
              "    <tr>\n",
              "      <th>3</th>\n",
              "      <td>2015-08-19</td>\n",
              "      <td>517.0</td>\n",
              "    </tr>\n",
              "    <tr>\n",
              "      <th>4</th>\n",
              "      <td>2015-08-20</td>\n",
              "      <td>863.0</td>\n",
              "    </tr>\n",
              "  </tbody>\n",
              "</table>\n",
              "</div>"
            ],
            "text/plain": [
              "        Data  Total\n",
              "0 2015-08-15    0.0\n",
              "1 2015-08-17  -86.0\n",
              "2 2015-08-18  874.0\n",
              "3 2015-08-19  517.0\n",
              "4 2015-08-20  863.0"
            ]
          },
          "metadata": {
            "tags": []
          },
          "execution_count": 26
        }
      ]
    },
    {
      "cell_type": "code",
      "metadata": {
        "id": "XFqSRpLeCwCs",
        "outputId": "0eedc554-acd6-426f-c5fc-ca6fcc6c7e41",
        "colab": {
          "base_uri": "https://localhost:8080/",
          "height": 204
        }
      },
      "source": [
        "topo = 0\n",
        "dd = 0\n",
        "dd_rel = 0\n",
        "result = []\n",
        "\n",
        "for i in range(len(df_portfolio)) : \n",
        "  dif = 0\n",
        "  if (i != 0) :\n",
        "    dif = df_portfolio.loc[i, 'Total'] - df_portfolio.loc[i-1, 'Total']\n",
        "  if (dif > 0) :\n",
        "    result.append(1)\n",
        "  else : \n",
        "    result.append(0)\n",
        "  if (df_portfolio.loc[i, 'Total'] > topo) :\n",
        "    topo = df_portfolio.loc[i, 'Total']\n",
        "  if ((df_portfolio.loc[i, 'Total'] - topo) < dd ) :\n",
        "    dd = (df_portfolio.loc[i, 'Total'] - topo)\n",
        "    dd_rel = (dd * 100) / (topo+15000)\n",
        "\n",
        "df_portfolio['Result'] = result\n",
        "\n",
        "df_portfolio.head()"
      ],
      "execution_count": 27,
      "outputs": [
        {
          "output_type": "execute_result",
          "data": {
            "text/html": [
              "<div>\n",
              "<style scoped>\n",
              "    .dataframe tbody tr th:only-of-type {\n",
              "        vertical-align: middle;\n",
              "    }\n",
              "\n",
              "    .dataframe tbody tr th {\n",
              "        vertical-align: top;\n",
              "    }\n",
              "\n",
              "    .dataframe thead th {\n",
              "        text-align: right;\n",
              "    }\n",
              "</style>\n",
              "<table border=\"1\" class=\"dataframe\">\n",
              "  <thead>\n",
              "    <tr style=\"text-align: right;\">\n",
              "      <th></th>\n",
              "      <th>Data</th>\n",
              "      <th>Total</th>\n",
              "      <th>Result</th>\n",
              "    </tr>\n",
              "  </thead>\n",
              "  <tbody>\n",
              "    <tr>\n",
              "      <th>0</th>\n",
              "      <td>2015-08-15</td>\n",
              "      <td>0.0</td>\n",
              "      <td>0</td>\n",
              "    </tr>\n",
              "    <tr>\n",
              "      <th>1</th>\n",
              "      <td>2015-08-17</td>\n",
              "      <td>-86.0</td>\n",
              "      <td>0</td>\n",
              "    </tr>\n",
              "    <tr>\n",
              "      <th>2</th>\n",
              "      <td>2015-08-18</td>\n",
              "      <td>874.0</td>\n",
              "      <td>1</td>\n",
              "    </tr>\n",
              "    <tr>\n",
              "      <th>3</th>\n",
              "      <td>2015-08-19</td>\n",
              "      <td>517.0</td>\n",
              "      <td>0</td>\n",
              "    </tr>\n",
              "    <tr>\n",
              "      <th>4</th>\n",
              "      <td>2015-08-20</td>\n",
              "      <td>863.0</td>\n",
              "      <td>1</td>\n",
              "    </tr>\n",
              "  </tbody>\n",
              "</table>\n",
              "</div>"
            ],
            "text/plain": [
              "        Data  Total  Result\n",
              "0 2015-08-15    0.0       0\n",
              "1 2015-08-17  -86.0       0\n",
              "2 2015-08-18  874.0       1\n",
              "3 2015-08-19  517.0       0\n",
              "4 2015-08-20  863.0       1"
            ]
          },
          "metadata": {
            "tags": []
          },
          "execution_count": 27
        }
      ]
    },
    {
      "cell_type": "code",
      "metadata": {
        "id": "jq9NIODVCoQz",
        "outputId": "ea517868-baa4-4f02-8af8-4de3ca4359b9",
        "colab": {
          "base_uri": "https://localhost:8080/",
          "height": 102
        }
      },
      "source": [
        "\n",
        "print(\"Dias Positivos: \"+ str(Counter(df_portfolio['Result'])[1]))\n",
        "print(\"Dias Negativos: \"+ str(Counter(df_portfolio['Result'])[0]))\n",
        "print(\"Taxa de Acerto: \"+('{:.2f}'.format((Counter(df_portfolio['Result'])[1] * 100) / (Counter(df_portfolio['Result'])[0] + Counter(df_portfolio['Result'])[1]) )+\"%\"))\n",
        "print(\"Drawdown Máximo: \"+str(dd))\n",
        "print(\"Drawdown Relativo: \"+('{:.2f}'.format(dd_rel))+\"%\")"
      ],
      "execution_count": 28,
      "outputs": [
        {
          "output_type": "stream",
          "text": [
            "Dias Positivos: 526\n",
            "Dias Negativos: 392\n",
            "Taxa de Acerto: 57.30%\n",
            "Drawdown Máximo: -2115.0\n",
            "Drawdown Relativo: -4.16%\n"
          ],
          "name": "stdout"
        }
      ]
    },
    {
      "cell_type": "code",
      "metadata": {
        "id": "YRFkhXgD9FHK",
        "outputId": "0e861590-adef-4001-e1e6-c3374bbf2ce8",
        "colab": {
          "base_uri": "https://localhost:8080/",
          "height": 417
        }
      },
      "source": [
        "plt.figure(figsize=(15,7))\n",
        "plt.xticks([])\n",
        "plt.autoscale(tight=True)\n",
        "plt.plot(df_portfolio['Data'], df_portfolio['Total'] )\n",
        "plt.show();"
      ],
      "execution_count": 29,
      "outputs": [
        {
          "output_type": "display_data",
          "data": {
            "image/png": "[encoded data removed]",
            "text/plain": [
              "<Figure size 1080x504 with 1 Axes>"
            ]
          },
          "metadata": {
            "tags": [],
            "needs_background": "light"
          }
        }
      ]
    },
    {
      "cell_type": "markdown",
      "metadata": {
        "id": "RH4hx56YDyMF"
      },
      "source": [
        "### Análise de correlação entre as estratégias"
      ]
    },
    {
      "cell_type": "code",
      "metadata": {
        "id": "xSPv27b0D1bj",
        "outputId": "e23dc762-84ad-4015-d6ac-580f42e422a4",
        "colab": {
          "base_uri": "https://localhost:8080/",
          "height": 204
        }
      },
      "source": [
        "dfCorrel = pd.DataFrame(index=df_portfolio.index)  \n",
        "dfCorrel['BANDAS'] = df_bandas['Dif']  \n",
        "dfCorrel['Rompimento X'] = df_rompimentox.loc[:,'Dif']  \n",
        "dfCorrel['MMV 2'] = df_mmv2.loc[:,'Dif']  \n",
        "dfCorrel['IFR'] = df_ifr.loc[:,'Dif']  \n",
        "\n",
        "dfCorrel.head()"
      ],
      "execution_count": 24,
      "outputs": [
        {
          "output_type": "execute_result",
          "data": {
            "text/html": [
              "<div>\n",
              "<style scoped>\n",
              "    .dataframe tbody tr th:only-of-type {\n",
              "        vertical-align: middle;\n",
              "    }\n",
              "\n",
              "    .dataframe tbody tr th {\n",
              "        vertical-align: top;\n",
              "    }\n",
              "\n",
              "    .dataframe thead th {\n",
              "        text-align: right;\n",
              "    }\n",
              "</style>\n",
              "<table border=\"1\" class=\"dataframe\">\n",
              "  <thead>\n",
              "    <tr style=\"text-align: right;\">\n",
              "      <th></th>\n",
              "      <th>BANDAS</th>\n",
              "      <th>Rompimento X</th>\n",
              "      <th>MMV 2</th>\n",
              "      <th>IFR</th>\n",
              "    </tr>\n",
              "  </thead>\n",
              "  <tbody>\n",
              "    <tr>\n",
              "      <th>0</th>\n",
              "      <td>0.0</td>\n",
              "      <td>0.0</td>\n",
              "      <td>0.0</td>\n",
              "      <td>0.0</td>\n",
              "    </tr>\n",
              "    <tr>\n",
              "      <th>1</th>\n",
              "      <td>-54.0</td>\n",
              "      <td>54.0</td>\n",
              "      <td>-74.0</td>\n",
              "      <td>-12.0</td>\n",
              "    </tr>\n",
              "    <tr>\n",
              "      <th>2</th>\n",
              "      <td>193.0</td>\n",
              "      <td>294.0</td>\n",
              "      <td>136.0</td>\n",
              "      <td>337.0</td>\n",
              "    </tr>\n",
              "    <tr>\n",
              "      <th>3</th>\n",
              "      <td>-112.0</td>\n",
              "      <td>-178.0</td>\n",
              "      <td>4.0</td>\n",
              "      <td>-71.0</td>\n",
              "    </tr>\n",
              "    <tr>\n",
              "      <th>4</th>\n",
              "      <td>48.0</td>\n",
              "      <td>85.0</td>\n",
              "      <td>109.0</td>\n",
              "      <td>104.0</td>\n",
              "    </tr>\n",
              "  </tbody>\n",
              "</table>\n",
              "</div>"
            ],
            "text/plain": [
              "   BANDAS  Rompimento X  MMV 2    IFR\n",
              "0     0.0           0.0    0.0    0.0\n",
              "1   -54.0          54.0  -74.0  -12.0\n",
              "2   193.0         294.0  136.0  337.0\n",
              "3  -112.0        -178.0    4.0  -71.0\n",
              "4    48.0          85.0  109.0  104.0"
            ]
          },
          "metadata": {
            "tags": []
          },
          "execution_count": 24
        }
      ]
    },
    {
      "cell_type": "code",
      "metadata": {
        "id": "vnXqeg5FEI2c",
        "outputId": "7986e446-d12d-44e9-e92b-773989c51d98",
        "colab": {
          "base_uri": "https://localhost:8080/",
          "height": 124
        }
      },
      "source": [
        "corr = dfCorrel.corr()\n",
        "corr.style.background_gradient(cmap='coolwarm')"
      ],
      "execution_count": 25,
      "outputs": [
        {
          "output_type": "execute_result",
          "data": {
            "text/html": [
              "<style  type=\"text/css\" >\n",
              "#T_91e1f2c8_0e53_11eb_9415_0242ac1c0002row0_col0,#T_91e1f2c8_0e53_11eb_9415_0242ac1c0002row1_col1,#T_91e1f2c8_0e53_11eb_9415_0242ac1c0002row2_col2,#T_91e1f2c8_0e53_11eb_9415_0242ac1c0002row3_col3{\n",
              "            background-color:  #b40426;\n",
              "            color:  #f1f1f1;\n",
              "        }#T_91e1f2c8_0e53_11eb_9415_0242ac1c0002row0_col1,#T_91e1f2c8_0e53_11eb_9415_0242ac1c0002row0_col2,#T_91e1f2c8_0e53_11eb_9415_0242ac1c0002row0_col3,#T_91e1f2c8_0e53_11eb_9415_0242ac1c0002row1_col0{\n",
              "            background-color:  #3b4cc0;\n",
              "            color:  #f1f1f1;\n",
              "        }#T_91e1f2c8_0e53_11eb_9415_0242ac1c0002row1_col2{\n",
              "            background-color:  #455cce;\n",
              "            color:  #f1f1f1;\n",
              "        }#T_91e1f2c8_0e53_11eb_9415_0242ac1c0002row1_col3{\n",
              "            background-color:  #4c66d6;\n",
              "            color:  #000000;\n",
              "        }#T_91e1f2c8_0e53_11eb_9415_0242ac1c0002row2_col0,#T_91e1f2c8_0e53_11eb_9415_0242ac1c0002row2_col3{\n",
              "            background-color:  #3e51c5;\n",
              "            color:  #f1f1f1;\n",
              "        }#T_91e1f2c8_0e53_11eb_9415_0242ac1c0002row2_col1{\n",
              "            background-color:  #4a63d3;\n",
              "            color:  #f1f1f1;\n",
              "        }#T_91e1f2c8_0e53_11eb_9415_0242ac1c0002row3_col0,#T_91e1f2c8_0e53_11eb_9415_0242ac1c0002row3_col2{\n",
              "            background-color:  #485fd1;\n",
              "            color:  #f1f1f1;\n",
              "        }#T_91e1f2c8_0e53_11eb_9415_0242ac1c0002row3_col1{\n",
              "            background-color:  #5a78e4;\n",
              "            color:  #000000;\n",
              "        }</style><table id=\"T_91e1f2c8_0e53_11eb_9415_0242ac1c0002\" ><thead>    <tr>        <th class=\"blank level0\" ></th>        <th class=\"col_heading level0 col0\" >BANDAS</th>        <th class=\"col_heading level0 col1\" >Rompimento X</th>        <th class=\"col_heading level0 col2\" >MMV 2</th>        <th class=\"col_heading level0 col3\" >IFR</th>    </tr></thead><tbody>\n",
              "                <tr>\n",
              "                        <th id=\"T_91e1f2c8_0e53_11eb_9415_0242ac1c0002level0_row0\" class=\"row_heading level0 row0\" >BANDAS</th>\n",
              "                        <td id=\"T_91e1f2c8_0e53_11eb_9415_0242ac1c0002row0_col0\" class=\"data row0 col0\" >1.000000</td>\n",
              "                        <td id=\"T_91e1f2c8_0e53_11eb_9415_0242ac1c0002row0_col1\" class=\"data row0 col1\" >-0.047012</td>\n",
              "                        <td id=\"T_91e1f2c8_0e53_11eb_9415_0242ac1c0002row0_col2\" class=\"data row0 col2\" >-0.032027</td>\n",
              "                        <td id=\"T_91e1f2c8_0e53_11eb_9415_0242ac1c0002row0_col3\" class=\"data row0 col3\" >-0.000005</td>\n",
              "            </tr>\n",
              "            <tr>\n",
              "                        <th id=\"T_91e1f2c8_0e53_11eb_9415_0242ac1c0002level0_row1\" class=\"row_heading level0 row1\" >Rompimento X</th>\n",
              "                        <td id=\"T_91e1f2c8_0e53_11eb_9415_0242ac1c0002row1_col0\" class=\"data row1 col0\" >-0.047012</td>\n",
              "                        <td id=\"T_91e1f2c8_0e53_11eb_9415_0242ac1c0002row1_col1\" class=\"data row1 col1\" >1.000000</td>\n",
              "                        <td id=\"T_91e1f2c8_0e53_11eb_9415_0242ac1c0002row1_col2\" class=\"data row1 col2\" >0.006334</td>\n",
              "                        <td id=\"T_91e1f2c8_0e53_11eb_9415_0242ac1c0002row1_col3\" class=\"data row1 col3\" >0.061487</td>\n",
              "            </tr>\n",
              "            <tr>\n",
              "                        <th id=\"T_91e1f2c8_0e53_11eb_9415_0242ac1c0002level0_row2\" class=\"row_heading level0 row2\" >MMV 2</th>\n",
              "                        <td id=\"T_91e1f2c8_0e53_11eb_9415_0242ac1c0002row2_col0\" class=\"data row2 col0\" >-0.032027</td>\n",
              "                        <td id=\"T_91e1f2c8_0e53_11eb_9415_0242ac1c0002row2_col1\" class=\"data row2 col1\" >0.006334</td>\n",
              "                        <td id=\"T_91e1f2c8_0e53_11eb_9415_0242ac1c0002row2_col2\" class=\"data row2 col2\" >1.000000</td>\n",
              "                        <td id=\"T_91e1f2c8_0e53_11eb_9415_0242ac1c0002row2_col3\" class=\"data row2 col3\" >0.014765</td>\n",
              "            </tr>\n",
              "            <tr>\n",
              "                        <th id=\"T_91e1f2c8_0e53_11eb_9415_0242ac1c0002level0_row3\" class=\"row_heading level0 row3\" >IFR</th>\n",
              "                        <td id=\"T_91e1f2c8_0e53_11eb_9415_0242ac1c0002row3_col0\" class=\"data row3 col0\" >-0.000005</td>\n",
              "                        <td id=\"T_91e1f2c8_0e53_11eb_9415_0242ac1c0002row3_col1\" class=\"data row3 col1\" >0.061487</td>\n",
              "                        <td id=\"T_91e1f2c8_0e53_11eb_9415_0242ac1c0002row3_col2\" class=\"data row3 col2\" >0.014765</td>\n",
              "                        <td id=\"T_91e1f2c8_0e53_11eb_9415_0242ac1c0002row3_col3\" class=\"data row3 col3\" >1.000000</td>\n",
              "            </tr>\n",
              "    </tbody></table>"
            ],
            "text/plain": [
              "<pandas.io.formats.style.Styler at 0x7f5d54a21438>"
            ]
          },
          "metadata": {
            "tags": []
          },
          "execution_count": 25
        }
      ]
    }
  ]
}